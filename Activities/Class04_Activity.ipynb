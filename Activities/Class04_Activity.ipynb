{
 "cells": [
  {
   "cell_type": "markdown",
   "id": "f65615c0-487b-4591-9f32-6439c27a1027",
   "metadata": {},
   "source": [
    "# <span style='color:red'>   Activities for Class 04 </span>\n",
    "## 24 Jan 2024<br>\n",
    "<hr style=\"border-top: 1px solid purple; margin-top: 1px; border: 3px solid purple\"></hr>\n",
    " The goals for today:\n",
    "\n",
    "    1. List Comprehensions\n",
    "    2. Finding the angle between two vectors\n",
    "    3. \n",
    "  \n",
    "    \n",
    "<hr style=\"margin-bottom: 1px; border: 3px solid purple\"></hr>\n"
   ]
  },
  {
   "cell_type": "markdown",
   "id": "bbd96f80-8bf3-4a21-9aa2-6a457d606986",
   "metadata": {},
   "source": [
    "## 1. List Comprehensions\n",
    "#### In the code cell below, create a list called *odd_ints* composed of all the odd numbers between 1 and 1,000,000."
   ]
  },
  {
   "cell_type": "code",
   "execution_count": 1,
   "id": "310987e9-8082-4a29-bef2-fbaaa32aa467",
   "metadata": {},
   "outputs": [
    {
     "data": {
      "text/plain": [
       "500000-element Vector{Int64}:\n",
       "      1\n",
       "      3\n",
       "      5\n",
       "      7\n",
       "      9\n",
       "     11\n",
       "     13\n",
       "     15\n",
       "     17\n",
       "     19\n",
       "     21\n",
       "     23\n",
       "     25\n",
       "      ⋮\n",
       " 999977\n",
       " 999979\n",
       " 999981\n",
       " 999983\n",
       " 999985\n",
       " 999987\n",
       " 999989\n",
       " 999991\n",
       " 999993\n",
       " 999995\n",
       " 999997\n",
       " 999999"
      ]
     },
     "execution_count": 1,
     "metadata": {},
     "output_type": "execute_result"
    }
   ],
   "source": [
    "odd_ints = [i for i in 1:1_000_000 if isodd(i)]"
   ]
  },
  {
   "cell_type": "markdown",
   "id": "03934777-38d0-4e2c-93ea-3a9289a9769c",
   "metadata": {},
   "source": [
    "#### In the code cell below, create a list called *is_prime* composed of all the prime numbers between 1 and 1000."
   ]
  },
  {
   "cell_type": "code",
   "execution_count": null,
   "id": "fb2d7e48-1777-459a-b4e5-1062759ff6ca",
   "metadata": {},
   "outputs": [],
   "source": [
    "using Primes"
   ]
  },
  {
   "cell_type": "markdown",
   "id": "83af0383-d623-4469-9d9c-b82b350237fc",
   "metadata": {},
   "source": [
    "## 2. Finding the angle between two vectors\n",
    "The angle between two vectors in 3D can be easily obtained by using the fact that the dot product of two vectors is \n",
    "$$ \\vec{A} \\cdot \\vec{B} = AB \\cos\\theta$$\n",
    "and therefore\n",
    "$$ \\theta = \\arccos(\\frac{\\vec{A} \\cdot \\vec{B}}{AB}),$$\n",
    "where $A$ and $B$ are the magnitudes of $\\vec{A}$ and $\\vec{B}$\n",
    "Using what you know about Julia, write a function called findangle(a,b) which takes as input two vectors and computes the angle between them, returning the angle in degrees."
   ]
  },
  {
   "cell_type": "code",
   "execution_count": null,
   "id": "8f281459-6efc-4efe-a1c5-4c93acc50333",
   "metadata": {},
   "outputs": [],
   "source": []
  }
 ],
 "metadata": {
  "kernelspec": {
   "display_name": "Julia 1.10.0",
   "language": "julia",
   "name": "julia-1.10"
  },
  "language_info": {
   "file_extension": ".jl",
   "mimetype": "application/julia",
   "name": "julia",
   "version": "1.10.0"
  }
 },
 "nbformat": 4,
 "nbformat_minor": 5
}
