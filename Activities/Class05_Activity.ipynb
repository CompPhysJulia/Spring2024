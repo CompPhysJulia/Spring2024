{
 "cells": [
  {
   "cell_type": "markdown",
   "id": "b60f5cbb-9cc1-401a-9cb5-6fde51e2d7d6",
   "metadata": {},
   "source": [
    "# Class 04: 29 Jan 2024"
   ]
  },
  {
   "cell_type": "markdown",
   "id": "ae9e6992-6000-4f37-b8bd-831f78fb92a3",
   "metadata": {},
   "source": [
    "## Exercise 1\n",
    "Write a function that takes three numbers, $n_1, n_2,$ and $n_3$ and returns the highest value.\n",
    "Make sure to test whether two are equal or all three are equal, and return the obvious result. "
   ]
  },
  {
   "cell_type": "markdown",
   "id": "1f84e43e-c68d-4c90-bcf8-98df7430ecfd",
   "metadata": {},
   "source": [
    "## Exercise 2\n",
    "Use the factorial function we developed in class to plot the factorial function for n=1 to n=8.\n",
    "Label your axes. "
   ]
  },
  {
   "cell_type": "markdown",
   "id": "ab1ce162-b8c0-4631-857a-b0704f6c3d69",
   "metadata": {},
   "source": [
    "## Exercise 3\n",
    "(a) Write a function that computes the x and y position at any time $t$ for a projectile launched from the edge of a 100 m high cliff.\n",
    "The projectile is launched with initial speed 20 m/s at an angle of $30^o$. Assume air resistance is negligible and this is happening on Earth. \n",
    "\n",
    "(b) Plot the path; stop the plot when the projectile hits the ground. Label your axes. "
   ]
  }
 ],
 "metadata": {
  "kernelspec": {
   "display_name": "Julia 1.10.0",
   "language": "julia",
   "name": "julia-1.10"
  },
  "language_info": {
   "file_extension": ".jl",
   "mimetype": "application/julia",
   "name": "julia",
   "version": "1.10.0"
  }
 },
 "nbformat": 4,
 "nbformat_minor": 5
}
