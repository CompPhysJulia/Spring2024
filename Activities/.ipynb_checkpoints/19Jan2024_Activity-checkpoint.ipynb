{
 "cells": [
  {
   "cell_type": "markdown",
   "id": "f717bfb9-434d-4295-8f85-646b9baa678e",
   "metadata": {},
   "source": [
    "# Physics 261:  Computational Physics \n",
    "## 19-Jan-2024"
   ]
  },
  {
   "cell_type": "markdown",
   "id": "4a7ad0d7-cfe7-49e9-a051-d8b048332c3e",
   "metadata": {
    "tags": []
   },
   "source": [
    "## Practice with Bash\n",
    "This is an exercise to give you a start using the command line in a Linux terminal. I fully expect that you will have to look up some commands at [this link](https://cheatography.com/davechild/cheat-sheets/linux-command-line/).  By the end of the course you’ll understand how to do all of this stuff, and why you’d care to.\n",
    "\n",
    "New you may well ask \"What does this have to do with physics?\", which is a very valid question. The answer is simple: knowledge of Linux and the command line will help you to be a more efficient scientist with a broad set of tools at your disposal. In addition, a good deal of data analysis is done on computer servers, and these invariably run on Linux. \n",
    "\n",
    "1. Login to JupyterHub; open up a terminal window. Type *ls* to see a list of the files in your home directory.\n",
    "2. Create a new directory in your home folder called *phy261*\n",
    "3. Change directories to *phy261*.\n",
    "4. Create a new directory from the terminal called *Class-01*. Change to this directory.\n",
    "5. Create/open a file in the Nano text editor in the *Class-01* directory called *testing_1.txt*.\n",
    "6. Type the phrase “Hello World!” into the text editor and save the file.\n",
    "7. Create/open a file in the Nano text editor called *testing_2.txt*\n",
    "8. Type the phrase “Bonjour World!” into the text editor and save the file.\n",
    "9. List the contents of the directory from the terminal. You should see two files whose names you recognize.\n",
    "10. Search the *phy261* directory for files containing the word “Hello”. (you may want to google “grep”)\n",
    "11. Search the *phy261* directory for files containing the word “Bonjour”, and then for \"world\"\n",
    "11. Copy *testing_1.txt* from *Class-01* into your *home* folder.\n",
    "12. Move *testing_1.txt* from *Class-01* to its parent directory (*phy261*).\n",
    "13. Remove testing.txt from the home folder. Verify that it is deleted.\n",
    "14. Show the detailed properties of the files in the *phy261* directory.\n",
    "15. Delete all instances of *testing_1.txt* and *testing_2.txt*.\n",
    "15. Display your computer’s current performance statistics.\n",
    "16. Clear the terminal screen.\n",
    "17. Print out the current date and time on the terminal.\n",
    "18. Show all currently running processes in the terminal."
   ]
  }
 ],
 "metadata": {
  "kernelspec": {
   "display_name": "Julia 1.10.0",
   "language": "julia",
   "name": "julia-1.10"
  },
  "language_info": {
   "file_extension": ".jl",
   "mimetype": "application/julia",
   "name": "julia",
   "version": "1.10.0"
  }
 },
 "nbformat": 4,
 "nbformat_minor": 5
}
