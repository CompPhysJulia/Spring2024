{
 "cells": [
  {
   "cell_type": "markdown",
   "id": "cc6657de-68b1-4332-a515-cc90c0f7cc24",
   "metadata": {},
   "source": [
    "# <span style='color:green'>   Introduction to Julia III </span>\n",
    "## 24 Jan 2024<br>\n",
    "<hr style=\"border-top: 1px solid purple; margin-top: 1px; border: 3px solid purple\"></hr>\n",
    " The goals for today:\n",
    "\n",
    "    1. Questions from last class & a correction and tidbit\n",
    "    2. List Comprehensions,  dot products, cross products\n",
    "    3. Using built in functions & defining Functions\n",
    "    \n",
    "    \n",
    "<hr style=\"margin-bottom: 1px; border: 3px solid purple\"></hr>\n"
   ]
  },
  {
   "cell_type": "markdown",
   "id": "9a523be0-f07a-43bd-8786-2ae60f5d2c3f",
   "metadata": {},
   "source": [
    "## 1. Questions?"
   ]
  },
  {
   "cell_type": "markdown",
   "id": "92959b88-be4e-443b-a690-c3d4c67eb400",
   "metadata": {
    "tags": []
   },
   "source": [
    "#### 1.1 Corrections from last time!\n",
    "It turns out that you can no longer (unless I am missing something) that you *must* load the LinearAlgebra.jl package in order to perform a dot or a cross product. "
   ]
  },
  {
   "cell_type": "markdown",
   "id": "eb92c881-2268-491a-ac61-0312e2226fab",
   "metadata": {
    "tags": []
   },
   "source": [
    "#### 1.2 Misc tidbits on Strings\n",
    "If you want to *concatenate* (i.e. join together) two strings, you use the * operator:\n",
    "```julia\n",
    "julia> first = \"Our cat Watson\";\n",
    "julia> second = \"was a bad boy;\";\n",
    "julia> third = \"he knocked over a chair and damaged the wall.\";\n",
    "julia> first*second*third\n",
    "\"Our cat Watsonwas a bad boy;he knocked over a chair and damaged the wall.\"\n",
    "```\n",
    "see what happens if you type\n",
    "```julia\n",
    "first^3\n",
    "```"
   ]
  },
  {
   "cell_type": "code",
   "execution_count": 1,
   "id": "7a432158-c846-4828-9af4-77735a671ca9",
   "metadata": {},
   "outputs": [
    {
     "data": {
      "text/plain": [
       "\"Our cat Watsonwas a bad boy;he knocked over a chair and damaged the wall.\""
      ]
     },
     "execution_count": 1,
     "metadata": {},
     "output_type": "execute_result"
    }
   ],
   "source": [
    "first = \"Our cat Watson\";\n",
    "second = \"was a bad boy;\";\n",
    "third = \"he knocked over a chair and damaged the wall.\";\n",
    "first*second*third"
   ]
  },
  {
   "cell_type": "markdown",
   "id": "cef4e90f-bb75-48e1-a075-35b2ad5d4ee0",
   "metadata": {
    "tags": []
   },
   "source": [
    "## 2. List Comprehensions, dot and cross products\n",
    "What we have been thinking of as a vector, for example r = [1.0, 4.0, 10.0] is referred to in Julia as a *list*. A list can contain a mix of types, for instance:"
   ]
  },
  {
   "cell_type": "code",
   "execution_count": null,
   "id": "4d2cbbc1-3006-4b62-9a2b-0da980c9c8ac",
   "metadata": {},
   "outputs": [],
   "source": [
    "silly_list = [\"Baxter\", π, \"Watson\", 9.11e-31, \"Sparky\"]  "
   ]
  },
  {
   "cell_type": "markdown",
   "id": "b014a8ce-04b9-4ac8-84bd-ebab572b7ae9",
   "metadata": {},
   "source": [
    "Of course, most of the time, we'll be working with lists of numbers, and likely (for instance, when sampling a function at thousands of points) we'll\n",
    "not want to manually type in these numbers. A **list comprehension** is one way to achieve this. For example, here is a list of the numbers between 1 and 100:"
   ]
  },
  {
   "cell_type": "code",
   "execution_count": null,
   "id": "70590c3c-7d15-4bf9-95ac-778870a5a1d0",
   "metadata": {},
   "outputs": [],
   "source": [
    "nums1000 = [i for i in 1:100] # notice it includes the 1 and the 100; it's inclusive of the endpoints."
   ]
  },
  {
   "cell_type": "markdown",
   "id": "a8fbecf1-847c-455c-852e-2ba84c3fc2c2",
   "metadata": {},
   "source": [
    "Here's a list of the even numbers between 1 and 100; notice I can add a Boolean test in the list comprehension."
   ]
  },
  {
   "cell_type": "code",
   "execution_count": null,
   "id": "eca472a4-c078-4eda-947d-09b888b89d5a",
   "metadata": {},
   "outputs": [],
   "source": [
    "evens = [i for i in 1:100 if iseven(i)]"
   ]
  },
  {
   "cell_type": "markdown",
   "id": "c170a855-f387-4071-ba99-6b2aa7ebcdd8",
   "metadata": {},
   "source": [
    "### Dot and Cross Products\n",
    "The dot products and cross product require the package LinearAlgebra.jl. We import the package in the standard way\n",
    "```julia\n",
    "using LinearAlgebra\n",
    "```\n",
    "and then we define two vectors and take their dot product:"
   ]
  },
  {
   "cell_type": "code",
   "execution_count": 1,
   "id": "007badc9-a95e-45a5-a9fd-e51fa89eeed9",
   "metadata": {},
   "outputs": [
    {
     "data": {
      "text/plain": [
       "5.0"
      ]
     },
     "execution_count": 1,
     "metadata": {},
     "output_type": "execute_result"
    }
   ],
   "source": [
    "using LinearAlgebra\n",
    "𝓇1 = [1.0, 2.0, 3.0]  \n",
    "𝓇2 = [1.0, 2.0, 0.0]\n",
    "dot(𝓇1,𝓇2)"
   ]
  },
  {
   "cell_type": "code",
   "execution_count": 4,
   "id": "15bbe4a2-934e-47e1-8926-832c6c454399",
   "metadata": {},
   "outputs": [
    {
     "data": {
      "text/plain": [
       "3-element Vector{Float64}:\n",
       " -6.0\n",
       "  3.0\n",
       "  0.0"
      ]
     },
     "execution_count": 4,
     "metadata": {},
     "output_type": "execute_result"
    }
   ],
   "source": [
    "cross(𝓇1,𝓇2)"
   ]
  },
  {
   "cell_type": "markdown",
   "id": "ff4eedea-f9a7-43e2-8ad7-f14576101973",
   "metadata": {},
   "source": [
    "####  <span style='color:orange'>  NOTE: It is good practice to put all package imports at the top of the notebook so it is apparent to the reader at the outset what packages are needed. </span>\n"
   ]
  },
  {
   "cell_type": "markdown",
   "id": "65780d0d-97c7-47fc-b9a3-86c8548290a4",
   "metadata": {},
   "source": [
    "## 3. Using built-in functions and defining functions\n",
    "### 3.1 Built-in functions\n",
    "Julia has an large library of functions; most of the [mathematical fuctions](https://docs.julialang.org/en/v1/manual/mathematical-operations/) we need are in the base language, but there are also some functions contained in packages which you have to load in order to use.  "
   ]
  },
  {
   "cell_type": "code",
   "execution_count": null,
   "id": "feaded7b-5e4d-4e56-9137-513b24be18d8",
   "metadata": {},
   "outputs": [],
   "source": []
  },
  {
   "cell_type": "markdown",
   "id": "f3412534-a442-48d3-ac0b-872cc9d8b6d5",
   "metadata": {},
   "source": [
    "### 3.2 Defining Functions\n",
    "Most of what we do all semester will involve defining functions that do something useful. The simplest functions to define are functions that can be written in a single line,\n",
    "for example, suppose you want to create a function to compute the magnitude of the gravitational force exerted by masses $m_1$ and $m_2$ separated by a distance $r$. Newton's law of Universal Gravitation tells us that the magnitude of the gravitational force is\n",
    "\n",
    "$$\n",
    "F = G\\frac{m_1 m_2}{r^2}\n",
    "$$\n",
    "You can define this as follows a function to compute this on one line of code as follows:"
   ]
  },
  {
   "cell_type": "code",
   "execution_count": 1,
   "id": "121376df-0ab3-494e-bb45-59c4e487d3e2",
   "metadata": {},
   "outputs": [
    {
     "data": {
      "text/plain": [
       "F (generic function with 1 method)"
      ]
     },
     "execution_count": 1,
     "metadata": {},
     "output_type": "execute_result"
    }
   ],
   "source": [
    "G = 6.6743e-11 # in SI units \n",
    "F(m₁, m₂, r) = G * m₁ * m₂ / r^2"
   ]
  },
  {
   "cell_type": "markdown",
   "id": "f6d161f5-e875-49e5-b026-519eb471ef96",
   "metadata": {},
   "source": [
    "Then, to evaluate the function, we simply call it just as you might expect:"
   ]
  },
  {
   "cell_type": "code",
   "execution_count": 4,
   "id": "6a08517c-4e29-4601-b1aa-3c2b0ee3f3ee",
   "metadata": {},
   "outputs": [
    {
     "data": {
      "text/plain": [
       "9.820285850027597"
      ]
     },
     "execution_count": 4,
     "metadata": {},
     "output_type": "execute_result"
    }
   ],
   "source": [
    "F(5.97219e24, 1.0, 6.371e6)"
   ]
  },
  {
   "cell_type": "markdown",
   "id": "68d6547e-6119-4f00-9d1b-37bdfa90c7a4",
   "metadata": {},
   "source": [
    "Typically, you want to *do* something, or at least reuse the result of a function call; \n",
    "this can be done by assigning the result to a variable:"
   ]
  },
  {
   "cell_type": "code",
   "execution_count": 5,
   "id": "e26f1118-7e27-4287-97dc-6e8184c12191",
   "metadata": {},
   "outputs": [
    {
     "name": "stdout",
     "output_type": "stream",
     "text": [
      "Weight on Earth: 9.820285850027597 N\n",
      "Weight on Jupiter: 24.78489243106421 N\n"
     ]
    }
   ],
   "source": [
    "Fₑ = F(5.97219e24, 1.0, 6.371e6) # weight on Earth\n",
    "Fⱼ = F(1.898e27, 1.0, 7.1492e7) # weight on Jupiter\n",
    "\n",
    "println(\"Weight on Earth: \", Fₑ, \" N\")\n",
    "println(\"Weight on Jupiter: \", Fⱼ, \" N\")"
   ]
  },
  {
   "cell_type": "code",
   "execution_count": 5,
   "id": "c124ddc0-454a-4a9f-8eff-3aa1f16c2820",
   "metadata": {},
   "outputs": [
    {
     "name": "stdout",
     "output_type": "stream",
     "text": [
      "Weight on Sun: 273.2592994366098 N\n"
     ]
    }
   ],
   "source": [
    "Fₛ = F(1.989e30, 1.0, 6.97e8) # weight on Sun\n",
    "println(\"Weight on Sun: \", Fₛ, \" N\")"
   ]
  },
  {
   "cell_type": "code",
   "execution_count": 6,
   "id": "e444cc32-30a1-45a8-8326-a8b294c224ae",
   "metadata": {},
   "outputs": [
    {
     "name": "stdout",
     "output_type": "stream",
     "text": [
      "Weight on Moon: 1.625196613415832 N\n"
     ]
    }
   ],
   "source": [
    "Fₘ = F(7.34767309e22, 1.0, 1.7371e6) # weight on Moon\n",
    "println(\"Weight on Moon: \", Fₘ, \" N\")"
   ]
  },
  {
   "cell_type": "markdown",
   "id": "ec86320a-54f0-42c2-bc28-30c0db0b02ae",
   "metadata": {},
   "source": [
    "### More complicated functions\n",
    "If you want a function to do something more complicated; i.e. something that takes more than one line of code, \n",
    "then you use the format\n",
    "```Julia\n",
    "function name(args)\n",
    "    <body of function>\n",
    "    return value_you_want\n",
    "end\n",
    "```"
   ]
  },
  {
   "cell_type": "code",
   "execution_count": null,
   "id": "394e7697-315d-44a7-85d7-822c45b15c13",
   "metadata": {},
   "outputs": [],
   "source": []
  }
 ],
 "metadata": {
  "kernelspec": {
   "display_name": "Julia 1.10.0",
   "language": "julia",
   "name": "julia-1.10"
  },
  "language_info": {
   "file_extension": ".jl",
   "mimetype": "application/julia",
   "name": "julia",
   "version": "1.10.0"
  }
 },
 "nbformat": 4,
 "nbformat_minor": 5
}
