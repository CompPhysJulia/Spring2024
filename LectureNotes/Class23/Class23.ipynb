{
 "cells": [
  {
   "cell_type": "markdown",
   "id": "e92adcc7-0d6f-496e-ba5d-cb035743c190",
   "metadata": {},
   "source": [
    "# Physics 261: Class 23\n",
    "## 27 Mar 2024\n",
    "<hr style=\"border-top: 1px solid purple; margin-top: 1px; border: 3px solid purple\"></hr>\n",
    " The goals for today:\n",
    "\n",
    "    1. Comments stemming from reading HW10-RK4\n",
    "    2. General thoughts on the remainder of the semester\n",
    "    3. Get started on #2.\n",
    "<hr style=\"margin-bottom: 1px; border: 3px solid purple\"></hr>\n"
   ]
  },
  {
   "cell_type": "markdown",
   "id": "dc6ba739-80a5-4c71-99f3-e1ee7045235e",
   "metadata": {},
   "source": [
    "# 1. Comments stemming from HW10-RK4\n",
    "## Koan:\n",
    "\n",
    "    \"When you write code for this class, do not write code.\"\n",
    "\n",
    "\n",
    "What do I mean by this? I mean that when you write code, i.e. when you are using a computer to try to investigate a problem (no matter the topic area), you should be incrementally testing your code, being **skeptical** of your own code and trying to think of good test cases where you know what to expect from the output of your code. \n",
    "\n",
    "Essentially, I am always asking you to explain your thinking *as you go* and using the markdown capabilities of jupyterlab or Pluto notebooks to show me your though process. As such, you are writing a document with markdown cells painting a picture of how you think about solving your problem via code, and how you test your code to make sure it's reasonable. Don't skip steps and just jump to what you may think is the most rigourous test; show some simple straightforward tests too. \n",
    "\n",
    "So, do not *just write code*. Create a thoughful document to communicate your thought process. And I want you to do this partly because I want you to *think like a scientist/physicist*, and partly because in my experience, </br>\n",
    "   > a. I do not *understand* anything unless I can explain it clearly,</br>\n",
    "   > b. I often find errors in my thinking when I force myself to explain my process,</br>\n",
    "\n",
    "so, in asking you do this, my motivation come from both wanting to know what you are thinking and believing that by forcing oneself to use written communication, one learns more. \n",
    "\n",
    "Don't forget in all of this that it's your attitude toward this that determines if you'll learn more and become more able to be flexible and playful with the learning process, or whether you'll decide it's all drudgery. Choose the former---it's more fun. \n"
   ]
  },
  {
   "cell_type": "markdown",
   "id": "f06aa0e9-d4f7-4bdf-bae1-7261f8ec39e2",
   "metadata": {},
   "source": [
    "# General thoughts on the rest of the semester\n",
    "The primary focus during these last 4 weeks will be your final projects. However, there are a number of topics I'd like to still discuss (and really, we could have a computational physics course each year and not run out of topics), and some more miscellaneous snippets I'd like to reserve space for. \n",
    "\n",
    "So here is a tentative outline for the upcoming weeks:</br>\n",
    "| Days    | Month | Potential Topics                                         | Final Project Check-in ? |\n",
    "| ------- | ----- | -------------------------------------------------------- | ------------------------ |\n",
    "| 25 -29  | March | Data analysis practice                                   |      none                |\n",
    "| 01 - 05 | April | Solving Laplace's equation; the electric potential       |      yes                 |\n",
    "| 08 - 12 | April | The Diffusion equation                                   |      yes                 |\n",
    "| 15 - 19 | April | Fourier Series and real-time analysis of sound           |      yes                 |\n",
    "| 22 -26  | April | TBD                                                      |      maybe               |\n",
    "| 28      | April | FINAL PRESENTATIONS                                      |                          |"
   ]
  },
  {
   "cell_type": "markdown",
   "id": "330fd843-dc78-4c54-9ff6-b9d2170a90b3",
   "metadata": {},
   "source": [
    "## Topics for today\n",
    "### (1) Add to your snippets library\n",
    "From our last class (Class 22), add to your snippets library code snippets to:</br>\n",
    "\n",
    "    a. read in a .csv file as a DataFrame (add a note about the packages needed)\n",
    "    b. extract a column from a DataFrame\n",
    "    c. create a Plots.jl plot using the defaults from class 22.\n",
    "    d. define a model function, create a fake data set from the model by adding gaussian noise, plot data and noise as in class 22.\n",
    "    e. create a DataFrame from two vectors (say t and x) \n",
    "    f. write out a DataFrame object to a file using CSV.write    "
   ]
  },
  {
   "cell_type": "markdown",
   "id": "1520a64c-86f5-4ce2-b503-6f49ce569787",
   "metadata": {},
   "source": [
    "### (2) Practice fitting data\n",
    "The file Coffee2.csv (examine it in Jupyterlab by clicking on it in the file browser) contains data from the colling of a cup of coffee.\n",
    "The data is *supposed to follow* Newton's law of cooling which says that the rate of temperature change is proportional to the temperature difference with the surroundings (surroundings assumed fixed at $T_0$); i.e. \n",
    "\n",
    "$$ \\frac{dT}{dt} = -k(T-T_0).$$\n",
    "\n",
    "If the system starts at temperature $T_i$, solve this differential equation for temperature as a function of time.\n",
    "Write your solution in the markdown cell below."
   ]
  },
  {
   "cell_type": "markdown",
   "id": "4b75cc44-4097-4c18-8c12-4b61a9d07cb4",
   "metadata": {},
   "source": []
  },
  {
   "cell_type": "markdown",
   "id": "621cd63a-9b2c-4269-9ca8-ee2358614498",
   "metadata": {},
   "source": [
    "Once you have this solution, compose a Julia function `T(t, k, Tᵢ, T₀)` as a model we'll use to fit the data. Define the function below."
   ]
  },
  {
   "cell_type": "code",
   "execution_count": null,
   "id": "a9fecbf8-b05b-4d92-98d4-e75296b00ec1",
   "metadata": {},
   "outputs": [],
   "source": []
  },
  {
   "cell_type": "markdown",
   "id": "0a82fcc6-978d-42d7-86e3-2a2bcdc00ff9",
   "metadata": {},
   "source": [
    "Now read in the data from Coffee2.csv, extract the first column to the a vector `t` and the second column to `temperature`."
   ]
  },
  {
   "cell_type": "code",
   "execution_count": null,
   "id": "782899b8-85ec-4b2e-bcea-3da18ca64047",
   "metadata": {},
   "outputs": [],
   "source": []
  },
  {
   "cell_type": "markdown",
   "id": "aa65d322-c929-4696-8ba3-f1a6d60a650e",
   "metadata": {},
   "source": [
    "Plot the data as a scatter plot; label your axes and be sure to include units."
   ]
  },
  {
   "cell_type": "code",
   "execution_count": null,
   "id": "7d969eab-8502-4828-b1ab-10799be28f5d",
   "metadata": {},
   "outputs": [],
   "source": []
  },
  {
   "cell_type": "markdown",
   "id": "4c55afec-6dda-495d-bea0-ce966ff983df",
   "metadata": {},
   "source": [
    "Now fit the data to our model, compute the best value for the cooling constant `k` along with it's uncertainty. Which of the other parameters are unknown in our model? (There is one more!) Find it's best value and its uncertainty. Then plot the best fit along with the data and make a residual plot as in the last class. "
   ]
  }
 ],
 "metadata": {
  "kernelspec": {
   "display_name": "Julia 1.10.2",
   "language": "julia",
   "name": "julia-1.10"
  },
  "language_info": {
   "file_extension": ".jl",
   "mimetype": "application/julia",
   "name": "julia",
   "version": "1.10.2"
  }
 },
 "nbformat": 4,
 "nbformat_minor": 5
}
