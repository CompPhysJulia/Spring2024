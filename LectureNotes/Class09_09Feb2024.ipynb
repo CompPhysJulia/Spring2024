{
 "cells": [
  {
   "cell_type": "markdown",
   "id": "9b61bf37-ec8d-4330-9da6-c656ce50743d",
   "metadata": {},
   "source": [
    "# Physics 261: Class 09\n",
    "## 09 Feb 2024\n",
    "<hr style=\"border-top: 1px solid purple; margin-top: 1px; border: 3px solid purple\"></hr>\n",
    " The goals for today:\n",
    "\n",
    "    1. Questions from last class\n",
    "    2. Random numbers in Julia; plotting histograms\n",
    "        - choosing uniform numbers from 0 to 1\n",
    "        - choosing randomly drawn numbers from a set \n",
    "        - choosing numbers from a Gaussian distribution\n",
    "    3. Computing Pi via Monte Carlo Method\n",
    "    4. The drunkard's walk\n",
    "<hr style=\"margin-bottom: 1px; border: 3px solid purple\"></hr>\n"
   ]
  },
  {
   "cell_type": "code",
   "execution_count": 2,
   "id": "5b1f7e6a-53db-4e8b-8909-b11dfd4ca868",
   "metadata": {},
   "outputs": [],
   "source": [
    "using GLMakie"
   ]
  },
  {
   "cell_type": "markdown",
   "id": "05af1153-c4bf-4acd-b4fb-e4b3ce7de359",
   "metadata": {},
   "source": [
    "## Random number generation\n",
    "One way to solve problems involves using random numbers to simulate systems where the underlying process is statitically random. \n",
    "To do this, we need to be able to pick a random number (typically between 0 and 1, but not always!). We can use the [Random.jl package](https://docs.julialang.org/en/v1/stdlib/Random/) to choose random numbers. (You may also find it useful to see the [Distributions.jl package](https://juliastats.org/Distributions.jl/stable/starting/) if you do a lot of staticaal work.)"
   ]
  },
  {
   "cell_type": "code",
   "execution_count": 3,
   "id": "81ce19a1-9628-4ce7-8031-eac2c27a0d98",
   "metadata": {},
   "outputs": [],
   "source": [
    "using Random"
   ]
  },
  {
   "cell_type": "code",
   "execution_count": 4,
   "id": "9cdbe4d8-dcc2-4332-8502-3dd5950701f1",
   "metadata": {},
   "outputs": [
    {
     "data": {
      "text/plain": [
       "0.05904167537451743"
      ]
     },
     "execution_count": 4,
     "metadata": {},
     "output_type": "execute_result"
    }
   ],
   "source": [
    "rand() # chooses a random number uniformly distributed between 0 and 1"
   ]
  },
  {
   "cell_type": "code",
   "execution_count": 5,
   "id": "6d4949f2-e7ec-4c08-93f2-ff2844b45509",
   "metadata": {},
   "outputs": [
    {
     "data": {
      "text/plain": [
       "10-element Vector{Float64}:\n",
       " 0.18359143838425962\n",
       " 0.30309935404629673\n",
       " 0.47784948399726623\n",
       " 0.18201043535298012\n",
       " 0.3300875930848137\n",
       " 0.9427038341078462\n",
       " 0.2016642360664307\n",
       " 0.849789338831047\n",
       " 0.8385500315703468\n",
       " 0.08477086096641084"
      ]
     },
     "execution_count": 5,
     "metadata": {},
     "output_type": "execute_result"
    }
   ],
   "source": [
    "my_list = rand(10)"
   ]
  },
  {
   "cell_type": "markdown",
   "id": "ee679e95-8d93-490e-a333-57910d97ce3a",
   "metadata": {},
   "source": [
    "### How can we tell if these numbers are random?\n",
    "We can plot a histogram of the numbers! See [Makie: Hist](https://docs.makie.org/stable/reference/plots/hist/)"
   ]
  },
  {
   "cell_type": "code",
   "execution_count": 13,
   "id": "3990205f-543b-4248-9732-7a027eb69f31",
   "metadata": {},
   "outputs": [
    {
     "data": {
      "image/png": "[encoded data removed]",
      "text/html": [
       "<img width=800 height=600 style='object-fit: contain;' src=\"data:image/png;base64, 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\"/>"
      ]
     },
     "execution_count": 13,
     "metadata": {},
     "output_type": "execute_result"
    }
   ],
   "source": [
    "fig = Figure(;size = (800,600))\n",
    "ax = Axis(fig[1,1])\n",
    "hist!(rand(100)) \n",
    "fig"
   ]
  },
  {
   "cell_type": "markdown",
   "id": "8bb8289b-4811-48c6-99f0-98a76162a152",
   "metadata": {},
   "source": [
    "### Now choose a random number from a list"
   ]
  },
  {
   "cell_type": "code",
   "execution_count": null,
   "id": "ea3682cf-e262-49dc-91bb-1a63a4df1ab7",
   "metadata": {},
   "outputs": [],
   "source": []
  },
  {
   "cell_type": "markdown",
   "id": "0ceeef0e-d8eb-40a1-b1d5-3a6c73183105",
   "metadata": {},
   "source": [
    "### Generate 1 million numbers chosen from a gaussian distribution\n",
    "Plot the histogram to see that it looks like a Gaussian:\n",
    "\n",
    "$$\n",
    "P(x) = \\frac{1}{\\sigma \\sqrt{2\\pi} }e^{ - \\left(x - \\mu \\right)^2/ 2\\sigma ^2} \n",
    "$$"
   ]
  },
  {
   "cell_type": "code",
   "execution_count": null,
   "id": "43118339-0f2a-42da-a985-3995e34f6038",
   "metadata": {},
   "outputs": [],
   "source": []
  }
 ],
 "metadata": {
  "kernelspec": {
   "display_name": "Julia 1.10.0",
   "language": "julia",
   "name": "julia-1.10"
  },
  "language_info": {
   "file_extension": ".jl",
   "mimetype": "application/julia",
   "name": "julia",
   "version": "1.10.0"
  }
 },
 "nbformat": 4,
 "nbformat_minor": 5
}
