{
 "cells": [
  {
   "cell_type": "markdown",
   "metadata": {},
   "source": [
    "# <span style='color:green'>   Introduction to Julia IV </span>\n",
    "## 29 Jan 2024<br>\n",
    "<hr style=\"border-top: 1px solid purple; margin-top: 1px; border: 3px solid purple\"></hr>\n",
    " The goals for today:\n",
    "\n",
    "    1. Questions from last class\n",
    "    2. Floor and Modulus operators\n",
    "    3. Logic, Conditionals & Recursion\n",
    "    4. Timing code in Julia\n",
    "    \n",
    "    \n",
    "<hr style=\"margin-bottom: 1px; border: 3px solid purple\"></hr>\n"
   ]
  },
  {
   "cell_type": "markdown",
   "metadata": {},
   "source": [
    "## 5.1: Questions from last class"
   ]
  },
  {
   "cell_type": "markdown",
   "metadata": {
    "tags": []
   },
   "source": [
    "## 5.2 Floor and Modulus\n",
    "The *floor division operator* `\\div <Tab>` which gives ÷ divides two numbers and rounds down to the nearest integer:"
   ]
  },
  {
   "cell_type": "code",
   "execution_count": null,
   "metadata": {},
   "outputs": [],
   "source": [
    "1÷2"
   ]
  },
  {
   "cell_type": "markdown",
   "metadata": {},
   "source": [
    "or, "
   ]
  },
  {
   "cell_type": "code",
   "execution_count": null,
   "metadata": {},
   "outputs": [],
   "source": [
    "32÷10"
   ]
  },
  {
   "cell_type": "markdown",
   "metadata": {},
   "source": [
    "The modulus operator % divides two numbers and gives the remainder:"
   ]
  },
  {
   "cell_type": "code",
   "execution_count": null,
   "metadata": {},
   "outputs": [],
   "source": [
    "3 % 2"
   ]
  },
  {
   "cell_type": "code",
   "execution_count": null,
   "metadata": {},
   "outputs": [],
   "source": [
    "10.5 % 3"
   ]
  },
  {
   "cell_type": "code",
   "execution_count": null,
   "metadata": {},
   "outputs": [],
   "source": [
    "320.5 % 10"
   ]
  },
  {
   "cell_type": "markdown",
   "metadata": {},
   "source": [
    "These two operations are super convienent if you want, for example, to convert a time in seconds into \n",
    "days, hours, minutes, and seconds. For example, suppose I have $\\frac{\\pi}{2}\\times 10^7\\,\\mathrm{s}$ and I \n",
    "want to know how many days, minutes and seconds this is."
   ]
  },
  {
   "cell_type": "code",
   "execution_count": null,
   "metadata": {},
   "outputs": [],
   "source": [
    "t = (0.5π)*1e7;"
   ]
  },
  {
   "cell_type": "markdown",
   "metadata": {},
   "source": [
    "Now we can compute the number of days, hours, minutes, and seconds remaining in two ways; one using floor division:"
   ]
  },
  {
   "cell_type": "code",
   "execution_count": null,
   "metadata": {},
   "outputs": [],
   "source": [
    "sec_in_day = 3600*24\n",
    "days = t÷sec_in_day\n",
    "hours = (t % sec_in_day) ÷ 3600\n",
    "min = ((t % sec_in_day) % 3600) ÷ 60\n",
    "sec = ((t % sec_in_day) % 3600) % 60\n",
    "println( \"days, hours, min, sec = \", days, \"\\t\", hours,\"\\t\", min,\"\\t\", round(sec,digits=4))"
   ]
  },
  {
   "cell_type": "markdown",
   "metadata": {},
   "source": [
    "### <span style='color:orange'> Exercise 5.2 </span>\n",
    "Turn the above into a function called `dhms(t)` which <br>\n",
    "\n",
    "    1. takes as input the number of seconds and returns the number of days, hours, minutes, and seconds to the user, and\n",
    "    2. test the function to make sure it works.\n"
   ]
  },
  {
   "cell_type": "code",
   "execution_count": null,
   "metadata": {},
   "outputs": [],
   "source": []
  },
  {
   "cell_type": "markdown",
   "metadata": {
    "tags": []
   },
   "source": [
    "## 5.3: Logic, Conditionals and Recursion"
   ]
  },
  {
   "cell_type": "markdown",
   "metadata": {},
   "source": [
    "### Boolean Expressions and Conditionals\n",
    "When writing a program, you often need to decide what to do based on how some variable compares to something else. Is the value equal to something else?\n",
    "Or is it less than or equal to something else? Etc. A **Boolean expression** is one that is either *true* or *false*. For example:"
   ]
  },
  {
   "cell_type": "code",
   "execution_count": null,
   "metadata": {},
   "outputs": [],
   "source": [
    "1==10"
   ]
  },
  {
   "cell_type": "code",
   "execution_count": null,
   "metadata": {},
   "outputs": [],
   "source": [
    "2 == 4/2"
   ]
  },
  {
   "cell_type": "code",
   "execution_count": null,
   "metadata": {},
   "outputs": [],
   "source": [
    "2 == 5÷2"
   ]
  },
  {
   "cell_type": "markdown",
   "metadata": {},
   "source": [
    "Note that *true* and *false* are not *strings* but a new variable type called *Boolean*:"
   ]
  },
  {
   "cell_type": "code",
   "execution_count": null,
   "metadata": {},
   "outputs": [],
   "source": [
    "typeof(true)"
   ]
  },
  {
   "cell_type": "markdown",
   "metadata": {},
   "source": [
    "### List of relational operators in Julia\n",
    "Fortunately in Julia, we have unicode character capability, so we can write the following:\n",
    "```julia\n",
    "x == y    # is x equal to y?\n",
    "x ≠ y     # is x not equal to y? (can also use != )\n",
    "x > y     # is x greater than y?\n",
    "x < y     # is x less than y?\n",
    "x ≥ y     # is x greater than or equal to y?  (can also use >= )\n",
    "x ≤ y     # is x less than or equal to y? (can also use <=)\n",
    "```"
   ]
  },
  {
   "cell_type": "code",
   "execution_count": null,
   "metadata": {},
   "outputs": [],
   "source": [
    "5 ≥ 8"
   ]
  },
  {
   "cell_type": "markdown",
   "metadata": {},
   "source": [
    "### Logical operators\n",
    "In Julia (as in other languages) there are three *logical operators*: \n",
    "\n",
    "    and: &&\n",
    "    or  :  ||\n",
    "    not:  !\n",
    "    \n",
    "The meaning of these is exactly what you'd expect from what you may have learned in a \n",
    "philosophy, mathematics, or computer science course. For example, if you have two tests,\n",
    "x and y, then x && y is true if and only if *both* x and y are true; hence the following *truth table*:\n",
    "\n",
    "| x      | y             | x and y |\n",
    "| :---    |    :----:   |    :---:|\n",
    "| true   |true       | true  | \n",
    "| true   | false     | false  |\n",
    "| false  | true      | false  |\n",
    "| false  | false     | false  |\n",
    "\n",
    "another example: write a test so see if a number, n, is betwen 2 and 13:"
   ]
  },
  {
   "cell_type": "code",
   "execution_count": null,
   "metadata": {},
   "outputs": [],
   "source": [
    "n = 31\n",
    "n > 2 && n<13"
   ]
  },
  {
   "cell_type": "markdown",
   "metadata": {},
   "source": [
    "write a test to see if a number is less than 2 or greater that 13:"
   ]
  },
  {
   "cell_type": "code",
   "execution_count": null,
   "metadata": {},
   "outputs": [],
   "source": [
    "n <2 || n >13"
   ]
  },
  {
   "cell_type": "markdown",
   "metadata": {},
   "source": [
    "### Conditional execution\n",
    "Now that we know how to execute Boolean tests, we can test conditions and create code that makes\n",
    "decisions based on the results of these tests. In Julia, this is done by the `if <some test is true>` construction\n",
    "which looks like this:\n",
    "    \n",
    "```Julia\n",
    "if  <some test is True>\n",
    "    <Do something>\n",
    "end\n",
    "```\n",
    "\n",
    "Another option is the *if ... else* construction:\n",
    "    \n",
    "```Julia\n",
    "if <some test is True>\n",
    "    <Do something>\n",
    "else\n",
    "    <Do some other thing>\n",
    "end\n",
    "```\n",
    "\n",
    "Or, even another option is the *if...elseif* construction:\n",
    "\n",
    " ```Julia\n",
    "if  <some test is True>\n",
    "    <Do something>\n",
    "elseif  <some other test is True>\n",
    "    <Do some other thing>\n",
    "end\n",
    "```\n",
    "    \n",
    "Let's do an example: Suppose you have two numbers: <br>\n",
    "*num1* and *num2*<br>\n",
    "Let's write code to determine the smallest number:"
   ]
  },
  {
   "cell_type": "code",
   "execution_count": null,
   "metadata": {},
   "outputs": [],
   "source": [
    "num1 = 12\n",
    "num2 = 12\n",
    "if num1 < num2\n",
    "    println(num1)\n",
    "elseif num2 < num1\n",
    "    println(num2)\n",
    "else\n",
    "    println(\"both are equal, even my cat can see that!\")\n",
    "end"
   ]
  },
  {
   "cell_type": "markdown",
   "metadata": {},
   "source": [
    "### <span style='color:orange'> Exercise 5.3.1 </span>\n",
    "Turn the above test into a function called `min_num(a,b)` which:\n",
    "\n",
    "    1. takes as input two numbers a and b\n",
    "    2. returns the smaller of the two numbers.\n",
    "    \n",
    "As always, test your function!"
   ]
  },
  {
   "cell_type": "code",
   "execution_count": null,
   "metadata": {},
   "outputs": [],
   "source": []
  },
  {
   "cell_type": "markdown",
   "metadata": {},
   "source": [
    "## Recursion\n",
    "Let's use all the tools from today to write a function to compute the factorial<br>\n",
    "(Julia has a built in function of the same name, so we'll call our function my_factorial):"
   ]
  },
  {
   "cell_type": "code",
   "execution_count": null,
   "metadata": {},
   "outputs": [],
   "source": [
    "function my_factorial(n)\n",
    "    if n==1 || n==0\n",
    "        return 1\n",
    "    else\n",
    "        return n*my_factorial(n-1)\n",
    "    end\n",
    "end       "
   ]
  },
  {
   "cell_type": "markdown",
   "metadata": {},
   "source": [
    "#### <span style='color:orange'> Exercise 5.3.1 </span>\n",
    "As always, let's test our code: try some values and make sure our code works! "
   ]
  },
  {
   "cell_type": "code",
   "execution_count": null,
   "metadata": {},
   "outputs": [],
   "source": []
  },
  {
   "cell_type": "code",
   "execution_count": null,
   "metadata": {},
   "outputs": [],
   "source": []
  },
  {
   "cell_type": "markdown",
   "metadata": {
    "jupyter": {
     "source_hidden": true
    },
    "tags": []
   },
   "source": [
    "#### Fix our function!"
   ]
  },
  {
   "cell_type": "markdown",
   "metadata": {},
   "source": [
    "### 5.4 Timing Julia code\n",
    "#### The @time macro\n",
    "Julia provides a base language macro called `@time` which tells us how long it takes to execute a fuction. \n",
    "Let's see how this works with our function `my_factorial_2(n)`:"
   ]
  },
  {
   "cell_type": "code",
   "execution_count": null,
   "metadata": {},
   "outputs": [],
   "source": [
    "@time my_factorial_2(50)"
   ]
  },
  {
   "cell_type": "markdown",
   "metadata": {},
   "source": [
    "Now let's test the function again:"
   ]
  },
  {
   "cell_type": "code",
   "execution_count": null,
   "metadata": {},
   "outputs": [],
   "source": [
    "@time my_factorial_2(50)"
   ]
  },
  {
   "cell_type": "markdown",
   "metadata": {},
   "source": [
    "You can see that the second time the function runs, it takes significantly less time. This is due to the fact that Julia uses LLVM (Low Level Virtual Machine) to compile Julia code down to machine code, and the first time the function is timed, it takes longer to run. The second time, it runs the (now compiled) machine code and is significantly faster. Understanding this is important when running longer simulations. "
   ]
  },
  {
   "cell_type": "markdown",
   "metadata": {},
   "source": [
    "#### The BenchmarkTools.jl package\n",
    "If you haven't installed it, open up a Julia REPL and add the BenchmarkTools package; once installed, you can use this package by first importing it via `using BenchmarkTools`:"
   ]
  },
  {
   "cell_type": "code",
   "execution_count": null,
   "metadata": {},
   "outputs": [],
   "source": [
    "using BenchmarkTools"
   ]
  },
  {
   "cell_type": "code",
   "execution_count": null,
   "metadata": {},
   "outputs": [],
   "source": [
    "@benchmark my_factorial(50)"
   ]
  },
  {
   "cell_type": "code",
   "execution_count": null,
   "metadata": {},
   "outputs": [],
   "source": []
  },
  {
   "cell_type": "markdown",
   "metadata": {
    "tags": []
   },
   "source": [
    "#### <span style='color:orange'> Exercise 5.4 </span> \n",
    "\n",
    "Try this: <br>\n",
    "1. open a terminal window in Jupyterlab (or in a desktop terminal) <br>\n",
    "2. type > julia<br>\n",
    "3. type > using BenchmarkTools<br>\n",
    "4. In the REPL, type > ?@benchmark<br>\n",
    "5. Read through the three examples provided and make sure you understand what is different in the last two example cases. <br>\n",
    "6. **To check your understanding:**  *Which of the cases is testing the speed of the sum function only?* <br>"
   ]
  }
 ],
 "metadata": {
  "kernelspec": {
   "display_name": "Julia 1.10.0",
   "language": "julia",
   "name": "julia-1.10"
  },
  "language_info": {
   "file_extension": ".jl",
   "mimetype": "application/julia",
   "name": "julia",
   "version": "1.10.0"
  }
 },
 "nbformat": 4,
 "nbformat_minor": 4
}
