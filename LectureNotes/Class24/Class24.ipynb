{
 "cells": [
  {
   "cell_type": "markdown",
   "id": "6df25bcd-0730-41b4-b3fa-8a0409f4a158",
   "metadata": {},
   "source": [
    "# Physics 261: Class 24\n",
    "## 29 March 2024\n",
    "<hr style=\"border-top: 1px solid purple; margin-top: 1px; border: 3px solid purple\"></hr>\n",
    " The goals for today:\n",
    "\n",
    "    1. Check in for competion of Class23 work\n",
    "    2. Misc topics I: How to quickly solve a simple resistor & battery circuit\n",
    "    3. Misc topics II: Test.jl \n",
    "    4. Misc topics III: MatecDev - Julia blog site (and soon to be a book)\n",
    "    \n",
    "<hr style=\"margin-bottom: 1px; border: 3px solid purple\"></hr>\n"
   ]
  },
  {
   "cell_type": "markdown",
   "id": "efea57e0-c52f-48b4-b590-59b360f8fb9e",
   "metadata": {},
   "source": [
    "# Misc Topic I: Solving Kirchoff's laws with Julia\n",
    "For a simple battery and loop circuit shown below:"
   ]
  },
  {
   "attachments": {
    "9e6756ff-f77a-4ced-8e71-759a7a63fc59.png": {
     "image/png": "[encoded data removed]"
    }
   },
   "cell_type": "markdown",
   "id": "0fa9d43f-7e43-4426-9563-e24de16fd776",
   "metadata": {},
   "source": [
    "![Circuit.png](attachment:9e6756ff-f77a-4ced-8e71-759a7a63fc59.png)"
   ]
  },
  {
   "cell_type": "markdown",
   "id": "afba5cd1-b99b-4add-8f9a-55f91d5d0d9d",
   "metadata": {},
   "source": [
    "let's use Kirchoff's law to write down three loop equations:"
   ]
  },
  {
   "cell_type": "markdown",
   "id": "410689ea-28bb-4117-b9e9-205726772a77",
   "metadata": {},
   "source": [
    "$$\n",
    "\\begin{eqnarray}\n",
    "+12 -6I_1 -2I_2 = 0\\\\\n",
    "12 - 6I_1 -3I_3 -4 = 0\\\\\n",
    "+2I_2 - 3I_3 -4 = 0 \\\\\n",
    "\\end{eqnarray}\n",
    "$$\n",
    "or, rearranging,\n",
    "$$\n",
    "\\begin{eqnarray}\n",
    "6I_1 +2I_2 + 0I_3 = 12\\\\\n",
    "6I_1 + 0I_2+ 3I_2 = 8\\\\\n",
    "0I_1 +2I_2 -3I_3 = 4\\\\\n",
    "\\end{eqnarray}\n",
    "$$\n",
    "and now, in matrix form:\n",
    "$$\n",
    "\\begin{bmatrix}\n",
    "6 & 2 & 0\\\\\n",
    "6 & 0 & 3\\\\\n",
    "0 & 2 & -3\\\\\n",
    "\\end{bmatrix}\n",
    "\\begin{bmatrix}\n",
    "I_1\\\\\n",
    "I_2\\\\\n",
    "I_3\\\\\n",
    "\\end{bmatrix}\n",
    "= \\begin{bmatrix}\n",
    "12\\\\\n",
    "8\\\\\n",
    "4\\\\\n",
    "\\end{bmatrix}\n",
    "$$\n",
    "This matrix equation is of the form $\\underset{~}{A}\\vec{I} = \\vec{V}$, so if you were to solve for $\\vec{I}$ as if it was a simple variable, you would write \n",
    "$$ I = \\vec{V}/\\underset{~}{A}$$\n",
    "\n",
    "Onbe might hope this would carry over to a similar thing in Julia, but alas, in Julia, we solve this equation by defining the matrix $\\underset{~}{A}$ and the vector $\\vec{V}$ and typing \n",
    "```julia \n",
    "I = A \\ V\n",
    "```"
   ]
  },
  {
   "cell_type": "code",
   "execution_count": 2,
   "id": "3e766932-1218-4de1-af8a-9c1c69a5ab77",
   "metadata": {
    "execution": {
     "iopub.execute_input": "2024-04-01T09:24:59.995",
     "iopub.status.busy": "2024-04-01T09:24:59.994",
     "iopub.status.idle": "2024-04-01T09:24:59.996",
     "shell.execute_reply": "2024-04-01T09:24:59.996"
    }
   },
   "outputs": [],
   "source": [
    "A = [6 2 0; 6 0 3; 0 2 -3]\n",
    "V = [12; 8;4];"
   ]
  },
  {
   "cell_type": "code",
   "execution_count": 3,
   "id": "e19fbdbe-53b6-466e-8a88-234331bccafa",
   "metadata": {
    "execution": {
     "iopub.execute_input": "2024-04-01T09:25:03.185",
     "iopub.status.busy": "2024-04-01T09:25:03.185",
     "iopub.status.idle": "2024-04-01T09:25:04.047",
     "shell.execute_reply": "2024-04-01T09:25:04.047"
    }
   },
   "outputs": [
    {
     "ename": "LoadError",
     "evalue": "LinearAlgebra.SingularException(3)",
     "output_type": "error",
     "traceback": [
      "LinearAlgebra.SingularException(3)",
      "",
      "Stacktrace:",
      " [1] checknonsingular",
      "   @ ~/.julia/juliaup/julia-1.10.2+0.aarch64.apple.darwin14/share/julia/stdlib/v1.10/LinearAlgebra/src/factorization.jl:68 [inlined]",
      " [2] checknonsingular",
      "   @ ~/.julia/juliaup/julia-1.10.2+0.aarch64.apple.darwin14/share/julia/stdlib/v1.10/LinearAlgebra/src/factorization.jl:71 [inlined]",
      " [3] #lu!#158",
      "   @ ~/.julia/juliaup/julia-1.10.2+0.aarch64.apple.darwin14/share/julia/stdlib/v1.10/LinearAlgebra/src/lu.jl:83 [inlined]",
      " [4] lu!",
      "   @ ~/.julia/juliaup/julia-1.10.2+0.aarch64.apple.darwin14/share/julia/stdlib/v1.10/LinearAlgebra/src/lu.jl:81 [inlined]",
      " [5] lu(A::Matrix{Int64}, pivot::LinearAlgebra.RowMaximum; check::Bool)",
      "   @ LinearAlgebra ~/.julia/juliaup/julia-1.10.2+0.aarch64.apple.darwin14/share/julia/stdlib/v1.10/LinearAlgebra/src/lu.jl:300",
      " [6] lu (repeats 2 times)",
      "   @ ~/.julia/juliaup/julia-1.10.2+0.aarch64.apple.darwin14/share/julia/stdlib/v1.10/LinearAlgebra/src/lu.jl:299 [inlined]",
      " [7] \\(A::Matrix{Int64}, B::Vector{Int64})",
      "   @ LinearAlgebra ~/.julia/juliaup/julia-1.10.2+0.aarch64.apple.darwin14/share/julia/stdlib/v1.10/LinearAlgebra/src/generic.jl:1124",
      " [8] top-level scope",
      "   @ In[3]:1"
     ]
    }
   ],
   "source": [
    "I = A \\ V"
   ]
  },
  {
   "cell_type": "markdown",
   "id": "38a67494-cfa7-44df-929a-06227e649813",
   "metadata": {},
   "source": [
    "Because the determinant was zero, this method won't work. But we can use the node rule for currents\n",
    "to write \n",
    "$$ I_1 = I_2 + I_3$$ \n",
    "to eliminate (for instance) $I_3$ and reduce the set of three equation to \n",
    "$$\n",
    "\\begin{bmatrix}\n",
    "6 & 2 \\\\\n",
    "-3 & 5 \\\\\n",
    "\\end{bmatrix}\n",
    "\\begin{bmatrix}\n",
    "I_1\\\\\n",
    "I_2\\\\\n",
    "\\end{bmatrix}\n",
    "= \\begin{bmatrix}\n",
    "12\\\\\n",
    "4\\\\\n",
    "\\end{bmatrix}\n",
    "$$\n",
    "Now, our method will work just fine:"
   ]
  },
  {
   "cell_type": "code",
   "execution_count": 6,
   "id": "42502f38-fe56-47df-b077-00db6e32d847",
   "metadata": {
    "execution": {
     "iopub.execute_input": "2024-04-01T09:25:50.796",
     "iopub.status.busy": "2024-04-01T09:25:50.796",
     "iopub.status.idle": "2024-04-01T09:25:50.797",
     "shell.execute_reply": "2024-04-01T09:25:50.797"
    }
   },
   "outputs": [],
   "source": [
    "A = [6 2; -3 5]\n",
    "V = [12; 4];"
   ]
  },
  {
   "cell_type": "code",
   "execution_count": 7,
   "id": "87bc8e25-6175-4dcc-b02d-812b090d2614",
   "metadata": {
    "execution": {
     "iopub.execute_input": "2024-04-01T09:25:55.098",
     "iopub.status.busy": "2024-04-01T09:25:55.097",
     "iopub.status.idle": "2024-04-01T09:25:55.100",
     "shell.execute_reply": "2024-04-01T09:25:55.100"
    }
   },
   "outputs": [
    {
     "data": {
      "text/plain": [
       "2-element Vector{Float64}:\n",
       " 1.4444444444444444\n",
       " 1.6666666666666667"
      ]
     },
     "execution_count": 7,
     "metadata": {},
     "output_type": "execute_result"
    }
   ],
   "source": [
    "I = A \\ V"
   ]
  },
  {
   "cell_type": "markdown",
   "id": "b84c1f4e-dcf5-4ef3-86ad-05495f4dff6e",
   "metadata": {},
   "source": [
    "Notice that since $I_1 = I_2 + I_3$, the solution implies that $I_3 = I_1 - I_2 = -0.2222\\;\\mathrm{amps}$, telling us that we had guessed the direction of \n",
    "the current $I_3$ backwards. Our problem is now solved."
   ]
  },
  {
   "cell_type": "markdown",
   "id": "5d799fa7-58e4-4178-9ad2-142381529d20",
   "metadata": {},
   "source": [
    "# Using Test.jl to test code"
   ]
  },
  {
   "cell_type": "code",
   "execution_count": 8,
   "id": "1ee14e1a-12df-4355-a93e-3ba837286466",
   "metadata": {
    "execution": {
     "iopub.execute_input": "2024-04-01T09:29:45.598",
     "iopub.status.busy": "2024-04-01T09:29:45.598",
     "iopub.status.idle": "2024-04-01T09:29:45.627",
     "shell.execute_reply": "2024-04-01T09:29:45.626"
    }
   },
   "outputs": [],
   "source": [
    "using Test"
   ]
  },
  {
   "cell_type": "code",
   "execution_count": 9,
   "id": "310ff9fe-c4cb-4d29-a19a-6b5127d72d35",
   "metadata": {
    "execution": {
     "iopub.execute_input": "2024-04-01T09:29:47.405",
     "iopub.status.busy": "2024-04-01T09:29:47.405",
     "iopub.status.idle": "2024-04-01T09:29:47.618",
     "shell.execute_reply": "2024-04-01T09:29:47.618"
    }
   },
   "outputs": [
    {
     "data": {
      "text/plain": [
       "\u001b[32m\u001b[1mTest Passed\u001b[22m\u001b[39m"
      ]
     },
     "execution_count": 9,
     "metadata": {},
     "output_type": "execute_result"
    }
   ],
   "source": [
    "@test 1 ≈ 0.9999 atol = 0.001"
   ]
  },
  {
   "cell_type": "markdown",
   "id": "576b3afb-2bd1-4735-8617-23e1c150f34b",
   "metadata": {},
   "source": [
    "There are many options in this package to test code. Especially useful are testsets:"
   ]
  },
  {
   "cell_type": "code",
   "execution_count": 10,
   "id": "ef2f40d0-175b-4535-bbdf-0a6cc8b9406e",
   "metadata": {
    "execution": {
     "iopub.execute_input": "2024-04-01T09:29:49.399",
     "iopub.status.busy": "2024-04-01T09:29:49.399",
     "iopub.status.idle": "2024-04-01T09:29:49.478",
     "shell.execute_reply": "2024-04-01T09:29:49.477"
    }
   },
   "outputs": [
    {
     "data": {
      "text/plain": [
       "f (generic function with 1 method)"
      ]
     },
     "execution_count": 10,
     "metadata": {},
     "output_type": "execute_result"
    }
   ],
   "source": [
    "f(x) = x^2"
   ]
  },
  {
   "cell_type": "code",
   "execution_count": 11,
   "id": "3a700603-34cc-43b1-96d7-3a633f995ee6",
   "metadata": {
    "execution": {
     "iopub.execute_input": "2024-04-01T09:30:34.748",
     "iopub.status.busy": "2024-04-01T09:30:34.748",
     "iopub.status.idle": "2024-04-01T09:30:35.586",
     "shell.execute_reply": "2024-04-01T09:30:35.586"
    }
   },
   "outputs": [
    {
     "name": "stdout",
     "output_type": "stream",
     "text": [
      "silly numerical tests: \u001b[91m\u001b[1mTest Failed\u001b[22m\u001b[39m at \u001b[39m\u001b[1mIn[11]:3\u001b[22m\n",
      "  Expression: ≈(π, 3.141, atol = 1.0e-5)\n",
      "   Evaluated: π ≈ 3.141 (atol=1.0e-5)\n",
      "\n",
      "Stacktrace:\n",
      " [1] \u001b[0m\u001b[1mmacro expansion\u001b[22m\n",
      "\u001b[90m   @\u001b[39m \u001b[90m~/.julia/juliaup/julia-1.10.2+0.aarch64.apple.darwin14/share/julia/stdlib/v1.10/Test/src/\u001b[39m\u001b[90m\u001b[4mTest.jl:672\u001b[24m\u001b[39m\u001b[90m [inlined]\u001b[39m\n",
      " [2] \u001b[0m\u001b[1mmacro expansion\u001b[22m\n",
      "\u001b[90m   @\u001b[39m \u001b[90m\u001b[4mIn[11]:3\u001b[24m\u001b[39m\u001b[90m [inlined]\u001b[39m\n",
      " [3] \u001b[0m\u001b[1mmacro expansion\u001b[22m\n",
      "\u001b[90m   @\u001b[39m \u001b[90m~/.julia/juliaup/julia-1.10.2+0.aarch64.apple.darwin14/share/julia/stdlib/v1.10/Test/src/\u001b[39m\u001b[90m\u001b[4mTest.jl:1577\u001b[24m\u001b[39m\u001b[90m [inlined]\u001b[39m\n",
      " [4] \u001b[0m\u001b[1mmacro expansion\u001b[22m\n",
      "\u001b[90m   @\u001b[39m \u001b[90m\u001b[4mIn[11]:3\u001b[24m\u001b[39m\u001b[90m [inlined]\u001b[39m\n",
      " [5] \u001b[0m\u001b[1mmacro expansion\u001b[22m\n",
      "\u001b[90m   @\u001b[39m \u001b[90m~/.julia/juliaup/julia-1.10.2+0.aarch64.apple.darwin14/share/julia/stdlib/v1.10/Test/src/\u001b[39m\u001b[90m\u001b[4mTest.jl:1577\u001b[24m\u001b[39m\u001b[90m [inlined]\u001b[39m\n",
      " [6] top-level scope\n",
      "\u001b[90m   @\u001b[39m \u001b[90m\u001b[4mIn[11]:2\u001b[24m\u001b[39m\n",
      "\u001b[0m\u001b[1mTest Summary:           | \u001b[22m\u001b[32m\u001b[1mPass  \u001b[22m\u001b[39m\u001b[91m\u001b[1mFail  \u001b[22m\u001b[39m\u001b[36m\u001b[1mTotal  \u001b[22m\u001b[39m\u001b[0m\u001b[1mTime\u001b[22m\n",
      "My Set of Set tests     | \u001b[32m   3  \u001b[39m\u001b[91m   1  \u001b[39m\u001b[36m    4  \u001b[39m\u001b[0m0.6s\n",
      "  silly numerical tests | \u001b[32m   1  \u001b[39m\u001b[91m   1  \u001b[39m\u001b[36m    2  \u001b[39m\u001b[0m0.6s\n",
      "  one more set          | \u001b[32m   2  \u001b[39m      \u001b[36m    2  \u001b[39m\u001b[0m0.0s\n"
     ]
    },
    {
     "ename": "LoadError",
     "evalue": "\u001b[91mSome tests did not pass: 3 passed, 1 failed, 0 errored, 0 broken.\u001b[39m",
     "output_type": "error",
     "traceback": [
      "\u001b[91mSome tests did not pass: 3 passed, 1 failed, 0 errored, 0 broken.\u001b[39m",
      "",
      "Stacktrace:",
      " [1] finish(ts::Test.DefaultTestSet; print_results::Bool)",
      "   @ Test ~/.julia/juliaup/julia-1.10.2+0.aarch64.apple.darwin14/share/julia/stdlib/v1.10/Test/src/Test.jl:1195",
      " [2] finish(ts::Test.DefaultTestSet)",
      "   @ Test ~/.julia/juliaup/julia-1.10.2+0.aarch64.apple.darwin14/share/julia/stdlib/v1.10/Test/src/Test.jl:1170",
      " [3] macro expansion",
      "   @ ~/.julia/juliaup/julia-1.10.2+0.aarch64.apple.darwin14/share/julia/stdlib/v1.10/Test/src/Test.jl:1593 [inlined]",
      " [4] top-level scope",
      "   @ In[11]:2"
     ]
    }
   ],
   "source": [
    "@testset verbose = true \"My Set of Set tests\" begin\n",
    "    @testset \"silly numerical tests\" begin\n",
    "        @test π ≈ 3.141 atol = 0.00001\n",
    "        @test sin(π) ≈ 0 atol = 0.0001\n",
    "    end\n",
    "    @testset \"one more set\" begin\n",
    "        @test f(2) ≈ 4.0 atol=0.01\n",
    "        @test f(3) ≈ 9.0 atol = 0.01\n",
    "    end\n",
    "end;"
   ]
  },
  {
   "cell_type": "markdown",
   "id": "df95516e-dca7-44af-b1b6-f1e4ab2486da",
   "metadata": {},
   "source": [
    "You can see that one test failed, and you can see that Test.jl tells you which one. If you end up writing lonnger pieces of code, \n",
    "or creating a Julia package, you will have to use tests as part of the code validation. "
   ]
  },
  {
   "cell_type": "markdown",
   "id": "eaa2766d-cece-474a-b64d-123675613342",
   "metadata": {},
   "source": [
    "## MatecDev.com\n",
    "This well-written and occassionally updated site is by Martin D. Maas, Ph.D, an applied mathematician from Argentina. \n",
    "He has an excellent (albeit short) [Intro to Julia tutorial](https://www.matecdev.com/posts/julia-tutorial-science-engineering.html) and will\n",
    "be publishing a book soon (I hope; based on his website, I think it will be a good text)."
   ]
  }
 ],
 "metadata": {
  "kernelspec": {
   "display_name": "Julia 1.10.2",
   "language": "julia",
   "name": "julia-1.10"
  },
  "language_info": {
   "file_extension": ".jl",
   "mimetype": "application/julia",
   "name": "julia",
   "version": "1.10.2"
  }
 },
 "nbformat": 4,
 "nbformat_minor": 5
}
