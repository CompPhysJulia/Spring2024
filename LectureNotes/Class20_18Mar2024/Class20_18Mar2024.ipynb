{
 "cells": [
  {
   "cell_type": "markdown",
   "id": "dea69afb-5d7a-4080-9bae-14b2c1480e65",
   "metadata": {},
   "source": [
    "# Physics 261: Class 20\n",
    "## 18 Mar 2024\n",
    "<hr style=\"border-top: 1px solid purple; margin-top: 1px; border: 3px solid purple\"></hr>\n",
    " The goals for today:\n",
    "\n",
    "    1. Software notes:\n",
    "        a. New timing package: Chairmarks.jl\n",
    "        b. Update to Jupyterlab Desktop app.\n",
    "        \n",
    "    2. Final Projects Timeline and Info\n",
    "    3. Wordle\n",
    "    \n",
    "<hr style=\"margin-bottom: 1px; border: 3px solid purple\"></hr>\n"
   ]
  },
  {
   "cell_type": "markdown",
   "id": "fa3e35ce-4b22-4aec-a92f-a9083832f8be",
   "metadata": {},
   "source": [
    "# Software notes:\n",
    "## Chairmarks.jl\n",
    "There is a [new timing package](https://github.com/LilithHafner/Chairmarks.jl) called Chairmarks.jl which has some advantages over BenchmarkTools.jl (which is now looking for a new maintainer). \n",
    "\n",
    "## jupyterlab-desktop app\n",
    "The current version of jupyterlab-desktop app is Version 4.1.4-1. If you have an old version, [you should update](https://github.com/jupyterlab/jupyterlab-desktop/releases/tag/v4.1.4-1);\n",
    "make sure to follow the [directions about uninstalling any old versions](https://github.com/jupyterlab/jupyterlab-desktop/blob/master/user-guide.md#uninstalling-jupyterlab-desktop) first.\n"
   ]
  },
  {
   "cell_type": "markdown",
   "id": "fedaf229-4015-4e42-bb15-4de3609b3e16",
   "metadata": {},
   "source": [
    "# Final Projects\n",
    "As a reminder, your final project notebook and your final presentation (on finals week) are together worth 200 points\n",
    "(100 points each) for a total of 20% of your course grade. You need to get started this week!\n",
    "## Timeline\n",
    "22 Mar: Project proposal (as .ipynb or .md file) due by 5pm (10 pts/100) </br>\n",
    "Dropbox link: https://www.dropbox.com/request/bRrbAgbPQ9EjuhB5I5zV</br>\n",
    "\n",
    "15 Apr: Final Project Check-in (10 pts/100) </br>\n",
    "\n",
    "29 Apr: Final Project Presentations </br>\n",
    "Final notebook and PDF of presentation due by 5pm: https://www.dropbox.com/request/eZEUeC17VxLnNcLZFwWF</br>\n",
    "\n",
    "\n",
    "### Some Ideas for Final Projects\n",
    "In no particular order, and some more challenging than others :-)\n",
    "\n",
    "1. A more massive planetary simulation (i.e. the solar system or some larger than two system)\n",
    "2. A simulation of charges accumulating on a needle one charge at a time...how do they distribute themselves? See [article by Griffiths](https://pubs.aip.org/aapt/ajp/article/64/6/706/1054817/Charge-density-on-a-conducting-needle)\n",
    "3. Grow a DLA and explore how it's fractal dimension depends on the nature of the growth parameters in the model. \n",
    "4. The \"famous\" one-dimensional gas problem.\n",
    "5. Percolation theory: propagation of forest fires or spread of disease\n",
    "6. Create a simulation to compute the precession of mercury's orbit around the sun with a General Relativistic corection to Newtonian gravity.\n",
    "7. Simulation of several (as many as possible; but start with two) $H_2O$ molecules interacting in 2D or 3D. Part of the work would be animating the molecules in motion. \n",
    "8. Solving Laplace's equation in electrostatics---create images of the electric potential and field around the plates of a capacitor, for instance. See this image on [our home page](https://usm.maine.edu/department-physics/) created by Derek Arel, a past graduate who took computational physics and made the image linked.\n",
    "9. Create a simulation to explore planetary ring formation. \n",
    "10. Chaos in a driven non-linear oscillator.\n",
    "11. Induced current in a solenoid as a magnet falls through the solenoid.\n",
    "12. Study the Ising model in 1D or 2D.\n",
    "13. Study the approach to equilibrium in a bimodal mass 1D gas in a tube.\n",
    "14. Study a Van Der Waals gas and how it turns to a liquid from a gas as it cools.\n"
   ]
  },
  {
   "cell_type": "markdown",
   "id": "2e070a25-361f-4439-83fa-2259285eee81",
   "metadata": {},
   "source": [
    "# Wordle\n",
    "Perhaps you've played this [very popular word game](https://www.nytimes.com/games/wordle/index.html) in which you have 6 chances to guess a 5 letter word. \n",
    "The list of allowed words is [easily obtained online](https://gist.github.com/dracos/dd0668f281e685bad51479e5acaadb93) and for your convienence, I've placed a test\n",
    "file in this class' folder that contains all these words. The file is called WordleList.txt. \n",
    "\n",
    "Let's read in the list of words. Here's one way to do this:"
   ]
  },
  {
   "cell_type": "code",
   "execution_count": 2,
   "id": "542f3f5a-d8e9-4822-a37e-1f87d7a4369d",
   "metadata": {
    "execution": {
     "iopub.execute_input": "2024-03-18T12:20:12.270",
     "iopub.status.busy": "2024-03-18T12:20:12.270",
     "iopub.status.idle": "2024-03-18T12:20:12.359",
     "shell.execute_reply": "2024-03-18T12:20:12.334"
    }
   },
   "outputs": [],
   "source": [
    "using DelimitedFiles"
   ]
  },
  {
   "cell_type": "code",
   "execution_count": 4,
   "id": "b489a044-3342-4c6d-9cc9-1ea532d3327f",
   "metadata": {
    "execution": {
     "iopub.execute_input": "2024-03-18T12:20:52.620",
     "iopub.status.busy": "2024-03-18T12:20:52.619",
     "iopub.status.idle": "2024-03-18T12:20:53.498",
     "shell.execute_reply": "2024-03-18T12:20:53.498"
    }
   },
   "outputs": [
    {
     "data": {
      "text/plain": [
       "14855×1 Matrix{Any}:\n",
       " \"aahed\"\n",
       " \"aalii\"\n",
       " \"aapas\"\n",
       " \"aargh\"\n",
       " \"aarti\"\n",
       " \"abaca\"\n",
       " \"abaci\"\n",
       " \"aback\"\n",
       " \"abacs\"\n",
       " \"abaft\"\n",
       " \"abaht\"\n",
       " \"abaka\"\n",
       " \"abamp\"\n",
       " ⋮\n",
       " \"zowee\"\n",
       " \"zowie\"\n",
       " \"zulus\"\n",
       " \"zupan\"\n",
       " \"zupas\"\n",
       " \"zuppa\"\n",
       " \"zurfs\"\n",
       " \"zuzim\"\n",
       " \"zygal\"\n",
       " \"zygon\"\n",
       " \"zymes\"\n",
       " \"zymic\""
      ]
     },
     "execution_count": 4,
     "metadata": {},
     "output_type": "execute_result"
    }
   ],
   "source": [
    "words = readdlm(\"WordleList.txt\")"
   ]
  },
  {
   "cell_type": "code",
   "execution_count": null,
   "id": "acf6e903-758a-4274-9639-71f7f443a0ea",
   "metadata": {},
   "outputs": [],
   "source": []
  }
 ],
 "metadata": {
  "kernelspec": {
   "display_name": "Julia 1.10.2",
   "language": "julia",
   "name": "julia-1.10"
  },
  "language_info": {
   "file_extension": ".jl",
   "mimetype": "application/julia",
   "name": "julia",
   "version": "1.10.2"
  }
 },
 "nbformat": 4,
 "nbformat_minor": 5
}
