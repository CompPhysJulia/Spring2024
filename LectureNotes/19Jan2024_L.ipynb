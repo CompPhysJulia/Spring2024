{
 "cells": [
  {
   "cell_type": "markdown",
   "id": "b3af0dec-7107-452f-bbf3-8bff453a01e3",
   "metadata": {},
   "source": [
    "# Computational Physics \n",
    "## Class 02: 19 Jan 2024\n",
    "### Topics:\n",
    "    1. Installing Julia on your own machine\n",
    "    2. Using the Bash shell to get things done\n",
    "        - Activity\n",
    "    3. Intro to the Julia language\n",
    "        - "
   ]
  },
  {
   "cell_type": "markdown",
   "id": "452a7858-c8c1-49b3-a09a-ddb95643480c",
   "metadata": {},
   "source": [
    "## Installing Julia on your own machine\n",
    "To install a working Julia distribution, we will install the following: <br>\n",
    "[Mamba](https://mamba.readthedocs.io/en/latest/installation/mamba-installation.html) <br>\n",
    "[Juliaup](https://github.com/JuliaLang/juliaup) <br>\n",
    "[Jupyterlab desktop](https://github.com/jupyterlab/jupyterlab-desktop)<br>\n",
    "After these are installed, I'll show you how everything works. :-) <br>\n",
    "\n",
    "Things to show:<br>\n",
    "\n",
    "    1. how to use *juliaup*\n",
    "        - updating julia\n",
    "        - adding beta version\n",
    "        - setting default version\n",
    "    2. how to use the julia package manager\n",
    "        - adding the julia kernel to jupyterlab\n",
    "        - using the package manager from within a jupyter notebook\n",
    "        - using the package manager from the REPL (most often this is what I use) \n",
    "    3. how to invoke start a notebook: three ways!\n",
    "        - from the terminal\n",
    "        - using jupyterlab desktop app\n",
    "        - using vscode"
   ]
  },
  {
   "cell_type": "markdown",
   "id": "eb22bdf0-43a9-47a9-908b-b708aa603b4c",
   "metadata": {},
   "source": [
    "##  Using the Bash shell to get things done: A brief introduction to Bash\n",
    "(taken from [https://www.educative.io/blog/bash-shell-command-cheat-sheet](https://www.educative.io/blog/bash-shell-command-cheat-sheet) )\n",
    "\n",
    "Things to show:<br>\n",
    "\n",
    "    1. ls — List directory contents\n",
    "        - Syntax: ls [option(s)] [file(s)]\n",
    "        - common options: -a, -l\n",
    "    2. *touch*  - Create a file <br>\n",
    "        - Syntax: touch [option(s)] file_name(s)\n",
    "        - Common options: -a, -m, -r, -d\n",
    "    3. mkdir — Create a directory\n",
    "        - Syntax: mkdir [option(s)] directory_name(s)\n",
    "        - Common options: -m, -p, -v\n",
    "    4. grep - search \n",
    "        - Syntax: grep [option(s)] pattern [file(s)]\n",
    "        - Common options: -i, -c, -n, -r\n",
    "    5. man — Print manual or get help for a command\n",
    "        - Syntax: man [option(s)] keyword(s)\n",
    "        - Common options: -w, -f, -b\n",
    "    6. pwd — Print working directory\n",
    "        - Syntax: pwd [option(s)]\n",
    "        - Common options: options aren’t typically used with pwd\n",
    "    7. cd — Change directory]\n",
    "        - Syntax: cd [option(s)] directory\n",
    "        - Common options: options aren’t typically used with cd\n",
    "    8. mv — Move or rename directory\n",
    "        - Syntax: mv [option(s)] argument(s)\n",
    "        - Common options: -i, -b\n",
    "    9. less — view the contents of a text file\n",
    "        - Syntax: less file_name\n",
    "        - Common options: -e, -f, -n\n",
    "    "
   ]
  },
  {
   "cell_type": "code",
   "execution_count": null,
   "id": "ef94f0ce-bbd2-4e5d-8e9c-ebd8b93620db",
   "metadata": {},
   "outputs": [],
   "source": []
  }
 ],
 "metadata": {
  "kernelspec": {
   "display_name": "Julia 1.10.0",
   "language": "julia",
   "name": "julia-1.10"
  },
  "language_info": {
   "file_extension": ".jl",
   "mimetype": "application/julia",
   "name": "julia",
   "version": "1.10.0"
  }
 },
 "nbformat": 4,
 "nbformat_minor": 5
}
