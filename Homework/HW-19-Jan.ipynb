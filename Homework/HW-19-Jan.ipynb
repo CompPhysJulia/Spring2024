{
 "cells": [
  {
   "cell_type": "markdown",
   "id": "2ce35196-c1a7-4780-ae8d-84cfbc8d7cb6",
   "metadata": {},
   "source": [
    "# <font color='green'>Physics 261: Homework 1</font>\n",
    "## Due: 13:00 Monday 22 Jan\n",
    "#### Note this is deliberately $\\color{red}{\\text{due 30 minutes after the start of class}}$ to allow for last minute cooperation. Please give all questions your best shot, and I'll allow 30 minutes at the beginning of class for you to ask questions and help each other out.\n",
    "\n",
    "There are two activities for this homework:<br>\n",
    "1. Practice with the Bash terminal on linux (Windows users will have to do this on the server!) You will also use a standard simple linux editor called *nano*, so you'll want to [watch this video](https://www.youtube.com/watch?v=g2PU--TctAM) first.<br>\n",
    "2. A reading assignment from [Think Julia](https://benlauwens.github.io/ThinkJulia.jl/latest/book.html) followed by several questions."
   ]
  },
  {
   "cell_type": "markdown",
   "id": "8b26dbac-0601-4c96-bc8e-76e0d6fd0f34",
   "metadata": {},
   "source": [
    "## (1) Practice with Bash and the nano editor\n",
    "\n",
    "This is an exercise to give you a start using the command line in a Linux terminal. I fully expect that you will have to look up some commands at [this link](https://cheatography.com/davechild/cheat-sheets/linux-command-line/).  By the end of the course you’ll understand how to do all of this stuff, and why you’d care to.\n",
    "\n",
    "New you may well ask \"What does this have to do with physics?\", which is a very valid question. The answer is simple: knowledge of Linux and the command line will help you to be a more efficient scientist with a broad set of tools at your disposal. In addition, a good deal of data analysis is done on computer servers, and these invariably run on Linux. "
   ]
  },
  {
   "cell_type": "markdown",
   "id": "9102f97f-8237-48bb-9ce2-412aa8148072",
   "metadata": {},
   "source": [
    "<div class=\"alert alert-block alert-info\">\n",
    "To complete this exercise, $\\color{red}{\\text{perform the following steps on the server}}$ (https://einstein.phy.usm.maine.edu). This will be most easily accomplished if you upload this notebook to the server after you login to jupyterhub.\n",
    "</div>"
   ]
  },
  {
   "cell_type": "markdown",
   "id": "c5560655-6bb8-4ce2-8a03-ab1c6c6bdd93",
   "metadata": {},
   "source": [
    "1. With this notebook open in Jupyterlab, open up a terminal window, and arrange the interface so you can see this notebook and the terminal window simultaneously. \n",
    "2. Type *ls* to see a list of the files in your home directory.\n",
    "2. Create a new directory in your home folder called *phy261*\n",
    "3. Change directories to *phy261*.\n",
    "4. Create a new directory from the terminal called *Class-01*. Change to this directory.\n",
    "5. Create/open a file in the Nano text editor in the *Class-01* directory called *testing_1.txt*. You can do this by typing nano testing1.txt. You probably want to watch this youtube video first: [https://www.youtube.com/watch?v=g2PU--TctAM](https://www.youtube.com/watch?v=g2PU--TctAM)\n",
    "6. Type the phrase “Hello World!” into the text editor and save the file.\n",
    "7. Create/open a file in the Nano text editor called *testing_2.txt*\n",
    "8. Type the phrase “Bonjour World!” into the text editor and save the file.\n",
    "9. List the contents of the directory from the terminal. You should see two files whose names you recognize.\n",
    "10. Search the *phy261* directory for files containing the word “Hello”. (you may want to google “grep”)\n",
    "11. Search the *phy261* directory for files containing the word “Bonjour”, and then for \"world\"\n",
    "11. Copy *testing_1.txt* from *Class-01* into your *home* folder.\n",
    "12. Move *testing_1.txt* from *Class-01* to its parent directory (*phy261*).\n",
    "13. Remove testing.txt from the home folder. Verify that it is deleted.\n",
    "14. Show the detailed properties of the files in the *phy261* directory.\n",
    "15. Delete all instances of *testing_1.txt* and *testing_2.txt*.\n",
    "15. Display your computer’s current performance statistics.\n",
    "16. Clear the terminal screen.\n",
    "17. Print out the current date and time on the terminal.\n",
    "18. Show all currently running processes in the terminal."
   ]
  },
  {
   "cell_type": "markdown",
   "id": "66095ad4-b3ba-4f96-b247-09b969534820",
   "metadata": {},
   "source": [
    "## (2) Reading assignment and HW Question 1-1\n",
    "In the book [Think Julia](https://benlauwens.github.io/ThinkJulia.jl/latest/book.html), please read:\n",
    "1. From the Preface: *Why Julia?* through *Using Code Examples*<br>\n",
    "2. Read all of Chapter 1: *The Way of the Program*; try out the examples by adding in code cells below this cell.<br>"
   ]
  },
  {
   "cell_type": "markdown",
   "id": "2bd3820c-9e36-4312-983e-8fef7edbe06d",
   "metadata": {},
   "source": [
    "### Exercise 1-1\n",
    "\n",
    "Whenever you are experimenting with a new feature, you should try to make mistakes. For example, in the “Hello, World!” program, what happens if you leave out one of the quotation marks? What if you leave out both? What if you spell *println* wrong?\n",
    "\n",
    "This kind of experiment helps you remember what you read; it also helps when you are programming, because you get to know what the error messages mean. It is better to make mistakes now and on purpose rather than later and accidentally.\n",
    "\n",
    "Answer the following questions. Leave the markdown cell for each question intact, and add markdown and code cells explaining your answers. As an example, I will answer the first question in the manner I want you to duplicate."
   ]
  },
  {
   "cell_type": "markdown",
   "id": "86edeae9-8bd7-4652-a89c-12507fe5f098",
   "metadata": {},
   "source": [
    "<div class=\"alert alert-block alert-success\">\n",
    "1. In a print statement, what happens if you leave out one of the parentheses, or both?\n",
    "</div>"
   ]
  },
  {
   "cell_type": "markdown",
   "id": "f9852f62-bee3-47ee-a126-85e9a27bf99a",
   "metadata": {},
   "source": [
    "If I use *println(\"Julia is cool\")* and leave off the last parenthesis, I get an error:"
   ]
  },
  {
   "cell_type": "code",
   "execution_count": 1,
   "id": "dfaade9b-4c0f-4b9e-ac93-c3003418454f",
   "metadata": {
    "tags": []
   },
   "outputs": [
    {
     "ename": "LoadError",
     "evalue": "ParseError:\n\u001b[90m# Error @ \u001b[0;0m\u001b]8;;file:///Users/paulnakroshis/In[1]#1:24\u001b\\\u001b[90mIn[1]:1:24\u001b[0;0m\u001b]8;;\u001b\\\nprintln(\"Julia is cool\"\u001b[48;2;120;70;70m\u001b[0;0m\n\u001b[90m#                      └ ── \u001b[0;0m\u001b[91mExpected `)`\u001b[0;0m",
     "output_type": "error",
     "traceback": [
      "ParseError:\n\u001b[90m# Error @ \u001b[0;0m\u001b]8;;file:///Users/paulnakroshis/In[1]#1:24\u001b\\\u001b[90mIn[1]:1:24\u001b[0;0m\u001b]8;;\u001b\\\nprintln(\"Julia is cool\"\u001b[48;2;120;70;70m\u001b[0;0m\n\u001b[90m#                      └ ── \u001b[0;0m\u001b[91mExpected `)`\u001b[0;0m",
      "",
      "Stacktrace:",
      " [1] top-level scope",
      "   @ In[1]:1"
     ]
    }
   ],
   "source": [
    "println(\"Julia is cool\""
   ]
  },
  {
   "cell_type": "markdown",
   "id": "bf1c9345-5250-45e8-bc7f-dd61a5a49ca6",
   "metadata": {},
   "source": [
    "The error message even lets us know that Julia was expecting an ending parentheis. (This is a new improvement in Julia---developers are working on making error messages more understandable). If I leave off the beginning parenthesis, I also get an error:"
   ]
  },
  {
   "cell_type": "code",
   "execution_count": 2,
   "id": "7cb177eb-a94d-4327-a4ad-13aace95f7f5",
   "metadata": {
    "tags": []
   },
   "outputs": [
    {
     "ename": "LoadError",
     "evalue": "ParseError:\n\u001b[90m# Error @ \u001b[0;0m\u001b]8;;file:///Users/paulnakroshis/In[2]#1:8\u001b\\\u001b[90mIn[2]:1:8\u001b[0;0m\u001b]8;;\u001b\\\nprintln\u001b[48;2;120;70;70m \"Julia is cool\")\u001b[0;0m\n\u001b[90m#      └───────────────┘ ── \u001b[0;0m\u001b[91mextra tokens after end of expression\u001b[0;0m",
     "output_type": "error",
     "traceback": [
      "ParseError:\n\u001b[90m# Error @ \u001b[0;0m\u001b]8;;file:///Users/paulnakroshis/In[2]#1:8\u001b\\\u001b[90mIn[2]:1:8\u001b[0;0m\u001b]8;;\u001b\\\nprintln\u001b[48;2;120;70;70m \"Julia is cool\")\u001b[0;0m\n\u001b[90m#      └───────────────┘ ── \u001b[0;0m\u001b[91mextra tokens after end of expression\u001b[0;0m",
      "",
      "Stacktrace:",
      " [1] top-level scope",
      "   @ In[2]:1"
     ]
    }
   ],
   "source": [
    "println \"Julia is cool\")"
   ]
  },
  {
   "cell_type": "markdown",
   "id": "0c5e7f62-4b74-4d6a-af57-55e4d596aa19",
   "metadata": {},
   "source": [
    "In this case, it's pretty hard to understand the error message, but it does highlight the line where the error occurs."
   ]
  },
  {
   "cell_type": "markdown",
   "id": "870029c8-76f6-4c42-92b7-825d4fb1cfca",
   "metadata": {},
   "source": [
    "<div class=\"alert alert-block alert-warning\"> Notice that my answers to the question mix complete sentences in markdown, interspersed with code cells demonstrating what I am talking about. This is how I want you to answer the remaining questions. "
   ]
  },
  {
   "cell_type": "markdown",
   "id": "66acbbb5-26ba-491c-a645-c16c18fcf590",
   "metadata": {},
   "source": [
    "<div class=\"alert alert-block alert-success\">\n",
    "2. If you are trying to print a string, what happens if you leave out one of the quotation marks, or both?\n",
    "</div>"
   ]
  },
  {
   "cell_type": "markdown",
   "id": "d3b1e206-824e-4df0-8e10-b381a82a8105",
   "metadata": {},
   "source": [
    "<div class=\"alert alert-block alert-success\">\n",
    "3. You can use a minus sign to make a negative number like -2. What happens if you put a plus sign before a number? What about 2++2?\n",
    "  </div>  "
   ]
  },
  {
   "cell_type": "markdown",
   "id": "e745ac91-ea06-4cd6-a371-9f10c07cce34",
   "metadata": {},
   "source": [
    "<div class=\"alert alert-block alert-success\">\n",
    "4. In math notation, leading zeros are okay, as in 02. What happens if you try this in Julia?\n",
    "</div>"
   ]
  },
  {
   "cell_type": "markdown",
   "id": "02725976-199e-4b9c-bc0b-a89beb825945",
   "metadata": {},
   "source": [
    "<div class=\"alert alert-block alert-success\">\n",
    "5. What happens if you have two values with no operator between them?\n",
    "</div>"
   ]
  },
  {
   "cell_type": "markdown",
   "id": "470a7718-2d62-4d01-8290-16d1b8daeb5b",
   "metadata": {},
   "source": [
    "### When done, please upload this notebook to the dropbox link I provided you via email.\n",
    "\n",
    "(*I know that I won't be able to see your bash exercises; expect a short quiz testing those skills sometime next week on Wed or Friday*) "
   ]
  }
 ],
 "metadata": {
  "kernelspec": {
   "display_name": "Julia 1.10.0",
   "language": "julia",
   "name": "julia-1.10"
  },
  "language_info": {
   "file_extension": ".jl",
   "mimetype": "application/julia",
   "name": "julia",
   "version": "1.10.0"
  }
 },
 "nbformat": 4,
 "nbformat_minor": 5
}
