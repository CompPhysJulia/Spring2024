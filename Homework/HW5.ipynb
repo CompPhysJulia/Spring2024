{
 "cells": [
  {
   "cell_type": "markdown",
   "id": "9b61bf37-ec8d-4330-9da6-c656ce50743d",
   "metadata": {},
   "source": [
    "# Physics 261: HW 5: Brownian Motion a.k.a. The Drunkard's Walk\n",
    "## Due date 9:00 am Friday 16 Feb\n",
    "\n",
    "<hr style=\"border-top: 1px solid green; margin-top: 1px; border: 3px solid green\"></hr>\n",
    "\n",
    "This homework involves a classic situation in statistical physics: the random walk. \n",
    "\n",
    "In 1828, the botanist Robert Brown published a paper called \"\"A brief account of microscopical observations made on the particles contained in the pollen of plants\" in which he observed that pollen grains in water underwent seemingly random motion. He did not know the cause of this motion, but he did determine that any substance, when ground up to a sufficiently small size, exhibited this motion, which we now refer to as Brownian Motion. \n",
    "\n",
    "It wasn't until 1905 that Einstein published a paper (Einstein, A. “Investigations on the theory of the Brownian Motion”, Ann. Phys. 17, 549 (1905)) deduced that Brownian motion was evidence of the existance of atoms, and predicted the quantitative aspects of the motion from statistical physics. You can read a short discussion of Brownian motion [here](http://physics.ucsc.edu/~drip/5D/brown/brown.pdf) and at [Wikkipedia](https://en.wikipedia.org/wiki/Robert_Brown_(botanist,_born_1773)).\n",
    "\n",
    "In this homework, you will simulate Brownian motion and determine a quantitative result about this motion. \n",
    "\n",
    "<hr style=\"margin-bottom: 1px; border: 3px solid green\"></hr>\n"
   ]
  },
  {
   "cell_type": "markdown",
   "id": "bbb225c8-f653-431a-bfbe-fa20d3b42d85",
   "metadata": {},
   "source": [
    "## The Drunkard's Walk\n",
    "For purposes of this simulation, imagine an inebriated person placed at the origin $(x,y) = (0,0)$ and only capable of taking steps of lenghth $L$ in either the in $\\pm x$ or $\\pm y$ directions. The intoxicated individual takes $N$ such steps.\n",
    "\n",
    "The idea is to first computationally implement this $N$ step walk, and then to answer what happens on average, or, as we've talked about in class, to approximate the *ensemble* average by performing a large number of such walks. \n",
    "\n",
    "I recommend that you read about the physics of a random walk in the [Feynman Lectures](https://www.feynmanlectures.caltech.edu/I_41.html)."
   ]
  },
  {
   "cell_type": "markdown",
   "id": "a26948c7-4b9c-435a-947a-69ad33b76a94",
   "metadata": {},
   "source": [
    "## Step 1: Implementing a single random walk of N steps.\n",
    "To start with, write a function called ```walk(n)``` which computes an N step random walk in 2D starting from the origin. The function should return to the user \n",
    "two 1D arrays, one giving the x coordinates at each step, and the other returning the y coordinates at each step. Let the length of each step be 1.0.\n",
    "Compose your function in the cell below."
   ]
  },
  {
   "cell_type": "code",
   "execution_count": null,
   "id": "7c5f748b-4c48-4ac2-93d2-1ed5c92c97ed",
   "metadata": {},
   "outputs": [],
   "source": []
  },
  {
   "cell_type": "markdown",
   "id": "23cd2843-f523-4984-a45a-24635ab9be3b",
   "metadata": {},
   "source": [
    "## Step 2: Test your code with a plot\n",
    "Plot three N step walks on the same plot. This is a situation where you definitely *do* want to plot lines beween each step to help visualize the individual walks. Show your code in the cell(s) below. Use markdown cells if needed to explain your thinking. Definitely add a markdown cell after your plot to convince me that what you see makes sense. "
   ]
  },
  {
   "cell_type": "code",
   "execution_count": null,
   "id": "d5a05424-337c-4c56-b0e2-7d044512b9c4",
   "metadata": {},
   "outputs": [],
   "source": []
  },
  {
   "cell_type": "markdown",
   "id": "c1703dab-b242-41f6-93af-5537789a8341",
   "metadata": {},
   "source": [
    "## Step 3: Average behaviors\n",
    "Create a lot (M >> 100) of N=100 step walks and compute arrays for the average x position, the average y position, and the average squared distance from the origin at each step. Create a function called nwalks(n,m) which returns the three arrays just described. Place your work in the cell below."
   ]
  },
  {
   "cell_type": "code",
   "execution_count": null,
   "id": "0bfcb441-b42e-4bf9-a0c6-76f9e6821dce",
   "metadata": {},
   "outputs": [],
   "source": []
  },
  {
   "cell_type": "markdown",
   "id": "2764f587-e8a0-427d-bf7f-6d94d162e2df",
   "metadata": {},
   "source": [
    "## Step 4: Plot the average walk behavior\n",
    "Make a figure with two plots; one  showing $<x>$ and $<y>$ positions vs N, \n",
    "and the other showing $<r^2>$ vs N.\n",
    "\n",
    "Place your code in the cell below, and make sure to discuss your results in a markdown cell below the figure. "
   ]
  },
  {
   "cell_type": "code",
   "execution_count": null,
   "id": "250d0c5e-e10c-486a-8cfc-d4a44295ae69",
   "metadata": {},
   "outputs": [],
   "source": []
  }
 ],
 "metadata": {
  "kernelspec": {
   "display_name": "Python 3 (ipykernel)",
   "language": "python",
   "name": "python3"
  },
  "language_info": {
   "codemirror_mode": {
    "name": "ipython",
    "version": 3
   },
   "file_extension": ".py",
   "mimetype": "text/x-python",
   "name": "python",
   "nbconvert_exporter": "python",
   "pygments_lexer": "ipython3",
   "version": "3.10.13"
  }
 },
 "nbformat": 4,
 "nbformat_minor": 5
}
