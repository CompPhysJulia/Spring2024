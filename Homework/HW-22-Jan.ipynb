{
 "cells": [
  {
   "cell_type": "markdown",
   "metadata": {
    "colab_type": "text",
    "id": "cmoZVkBbcW-T"
   },
   "source": [
    "#Homework 2: Julia Exercises\n",
    "## Due: Wed 24 Jan. 2023 at beginning of class."
   ]
  },
  {
   "cell_type": "markdown",
   "metadata": {
    "colab_type": "text",
    "id": "71fA3ibycW-T"
   },
   "source": [
    "## Finding errors in code\n",
    "For each of the following cells, <br>\n",
    "a) run the cell and see the error message,<br>\n",
    "b) add a new markdown cell describing the error, and describing what you need to do to fix the problem, and<br>\n",
    "c) add a new code cell fixing the error. find the error, and correct it in a new cell below the original.<br>"
   ]
  },
  {
   "cell_type": "code",
   "execution_count": null,
   "metadata": {
    "colab": {
     "autoexec": {
      "startup": false,
      "wait_interval": 0
     }
    },
    "colab_type": "code",
    "id": "WTelHESicW-U"
   },
   "outputs": [],
   "source": [
    "z = x + y\n",
    "x = 6\n",
    "y = 8\n",
    "println(z)"
   ]
  },
  {
   "cell_type": "code",
   "execution_count": null,
   "metadata": {
    "colab": {
     "autoexec": {
      "startup": false,
      "wait_interval": 0
     }
    },
    "colab_type": "code",
    "id": "5jvG7AbDcW-X"
   },
   "outputs": [],
   "source": [
    "for i in range(10)\n",
    "    println(i)"
   ]
  },
  {
   "cell_type": "code",
   "execution_count": null,
   "metadata": {},
   "outputs": [],
   "source": [
    "data = [1.0, 2.0, 4.0, 8.0, 16.0, 32.0, 64.0, 128.0, 256.0]\n",
    "data[0]"
   ]
  },
  {
   "cell_type": "code",
   "execution_count": null,
   "metadata": {
    "colab": {
     "autoexec": {
      "startup": false,
      "wait_interval": 0
     }
    },
    "colab_type": "code",
    "id": "h8kItX78cW-Y"
   },
   "outputs": [],
   "source": [
    "values = (2,6,0)\n",
    "println values(2)"
   ]
  },
  {
   "cell_type": "markdown",
   "metadata": {
    "colab_type": "text",
    "id": "cIWJwFqNcW-a"
   },
   "source": [
    "## Short Julia snippets\n",
    "Below each markdow cell, write a short python snippet to perform the indicated action.<br>\n",
    "Add a markdown cell to explain your thinking if this is needed."
   ]
  },
  {
   "cell_type": "markdown",
   "metadata": {
    "colab_type": "text",
    "id": "pFRbu4rPcW-a"
   },
   "source": [
    "### Write a piece of code to decide if an integer is even or odd. \n",
    "(Print out \"true\" if the number is odd, and \"false\" if it is even.) There are at least two ways to do this in Julia. One involves the modulus function:  mod( ).  You can get help on any function in julia by preceding the name with a question mark; i.e. to get help on the mod( ) function, type ?mod ."
   ]
  },
  {
   "cell_type": "raw",
   "metadata": {
    "colab": {
     "autoexec": {
      "startup": false,
      "wait_interval": 0
     }
    },
    "colab_type": "code",
    "id": "8PoUMOAucW-b"
   },
   "source": []
  },
  {
   "cell_type": "markdown",
   "metadata": {
    "colab_type": "text",
    "id": "NSBAVqbDcW-d"
   },
   "source": [
    "#### Sum all of the numbers from 1 to 1,000,000 \n",
    "Solve this by using a for loop."
   ]
  },
  {
   "cell_type": "code",
   "execution_count": null,
   "metadata": {
    "colab": {
     "autoexec": {
      "startup": false,
      "wait_interval": 0
     }
    },
    "colab_type": "code",
    "id": "9-1pTsX0cW-d"
   },
   "outputs": [],
   "source": []
  },
  {
   "cell_type": "markdown",
   "metadata": {
    "colab_type": "text",
    "id": "obc3bq9ZcW-f"
   },
   "source": [
    "#### Sum all of the odd numbers from 1 to 1,000,000\n",
    "Again, solve this by using a for loop."
   ]
  },
  {
   "cell_type": "code",
   "execution_count": null,
   "metadata": {
    "colab": {
     "autoexec": {
      "startup": false,
      "wait_interval": 0
     }
    },
    "colab_type": "code",
    "id": "j6sXki9EcW-f"
   },
   "outputs": [],
   "source": []
  },
  {
   "cell_type": "markdown",
   "metadata": {},
   "source": [
    "#### Now sum all the numbers from 1 to 1,000,000 another way.\n",
    "Use the built in function sum( ) to add all the numbers; you should do this in *one line of code without a for loop.*"
   ]
  },
  {
   "cell_type": "markdown",
   "metadata": {
    "colab_type": "text",
    "id": "b_TYTDp7cW-h"
   },
   "source": [
    "#### Define a string variable s; assign the value 'fishy snack' to it, and then print out the characters one by one"
   ]
  },
  {
   "cell_type": "code",
   "execution_count": null,
   "metadata": {
    "colab": {
     "autoexec": {
      "startup": false,
      "wait_interval": 0
     }
    },
    "colab_type": "code",
    "id": "PnZldSSZcW-h"
   },
   "outputs": [],
   "source": []
  },
  {
   "cell_type": "markdown",
   "metadata": {
    "colab_type": "text",
    "id": "ipXrlj7TcW-k"
   },
   "source": [
    "#### For the string s above, print out the first 4 characters"
   ]
  },
  {
   "cell_type": "code",
   "execution_count": null,
   "metadata": {
    "colab": {
     "autoexec": {
      "startup": false,
      "wait_interval": 0
     }
    },
    "colab_type": "code",
    "id": "wNkLuKracW-k"
   },
   "outputs": [],
   "source": []
  },
  {
   "cell_type": "markdown",
   "metadata": {
    "colab_type": "text",
    "id": "SKSafv0CcW-m"
   },
   "source": [
    "#### For the string s above, print out the last 4 characters"
   ]
  },
  {
   "cell_type": "code",
   "execution_count": null,
   "metadata": {
    "colab": {
     "autoexec": {
      "startup": false,
      "wait_interval": 0
     }
    },
    "colab_type": "code",
    "id": "Hrp6M7zScW-m"
   },
   "outputs": [],
   "source": []
  },
  {
   "cell_type": "markdown",
   "metadata": {
    "colab_type": "text",
    "id": "OBhLE_J5cW-o"
   },
   "source": [
    "#### Define a list called months and have each entry of the list contain the three letter abbreviation for each month. Then write a loop to print out each month's abbreviation."
   ]
  },
  {
   "cell_type": "markdown",
   "metadata": {
    "colab": {
     "autoexec": {
      "startup": false,
      "wait_interval": 0
     }
    },
    "colab_type": "code",
    "id": "t6lTIRPMcW-o"
   },
   "source": [
    "## Plotting\n",
    "As we move forward, the following cell will typically be at the top of each notebook. \n",
    "This cell imports the Plots package and defines some nice plot defaults\n",
    "which you can alter or overwrite on a plot-by-plot basis. \n",
    "To execute the cell press shift-enter."
   ]
  },
  {
   "cell_type": "code",
   "execution_count": 30,
   "metadata": {
    "colab": {
     "autoexec": {
      "startup": false,
      "wait_interval": 0
     }
    },
    "colab_type": "code",
    "id": "wOafJ-GxcW-q"
   },
   "outputs": [
    {
     "data": {
      "image/svg+xml": [
       "<?xml version=\"1.0\" encoding=\"utf-8\"?>\n",
       "<svg xmlns=\"http://www.w3.org/2000/svg\" xmlns:xlink=\"http://www.w3.org/1999/xlink\" width=\"800\" height=\"500\" viewBox=\"0 0 3200 2000\">\n",
       "<defs>\n",
       "  <clipPath id=\"clip370\">\n",
       "    <rect x=\"0\" y=\"0\" width=\"3200\" height=\"2000\"/>\n",
       "  </clipPath>\n",
       "</defs>\n",
       "<path clip-path=\"url(#clip370)\" d=\"\n",
       "M0 2000 L3200 2000 L3200 0 L0 0  Z\n",
       "  \" fill=\"#ffffff\" fill-rule=\"evenodd\" fill-opacity=\"1\"/>\n",
       "<defs>\n",
       "  <clipPath id=\"clip371\">\n",
       "    <rect x=\"640\" y=\"0\" width=\"2241\" height=\"2000\"/>\n",
       "  </clipPath>\n",
       "</defs>\n",
       "<defs>\n",
       "  <clipPath id=\"clip372\">\n",
       "    <rect x=\"418\" y=\"141\" width=\"2136\" height=\"1553\"/>\n",
       "  </clipPath>\n",
       "</defs>\n",
       "<path clip-path=\"url(#clip370)\" d=\"\n",
       "M418.73 1693.37 L2553.77 1693.37 L2553.77 141.732 L418.73 141.732  Z\n",
       "  \" fill=\"#ffffff\" fill-rule=\"evenodd\" fill-opacity=\"1\"/>\n",
       "<polyline clip-path=\"url(#clip372)\" style=\"stroke:#000000; stroke-linecap:round; stroke-linejoin:round; stroke-width:2; stroke-opacity:0.1; fill:none\" points=\"\n",
       "  479.156,1693.37 479.156,141.732 \n",
       "  \"/>\n",
       "<polyline clip-path=\"url(#clip372)\" style=\"stroke:#000000; stroke-linecap:round; stroke-linejoin:round; stroke-width:2; stroke-opacity:0.1; fill:none\" points=\"\n",
       "  982.703,1693.37 982.703,141.732 \n",
       "  \"/>\n",
       "<polyline clip-path=\"url(#clip372)\" style=\"stroke:#000000; stroke-linecap:round; stroke-linejoin:round; stroke-width:2; stroke-opacity:0.1; fill:none\" points=\"\n",
       "  1486.25,1693.37 1486.25,141.732 \n",
       "  \"/>\n",
       "<polyline clip-path=\"url(#clip372)\" style=\"stroke:#000000; stroke-linecap:round; stroke-linejoin:round; stroke-width:2; stroke-opacity:0.1; fill:none\" points=\"\n",
       "  1989.8,1693.37 1989.8,141.732 \n",
       "  \"/>\n",
       "<polyline clip-path=\"url(#clip372)\" style=\"stroke:#000000; stroke-linecap:round; stroke-linejoin:round; stroke-width:2; stroke-opacity:0.1; fill:none\" points=\"\n",
       "  2493.34,1693.37 2493.34,141.732 \n",
       "  \"/>\n",
       "<polyline clip-path=\"url(#clip370)\" style=\"stroke:#000000; stroke-linecap:round; stroke-linejoin:round; stroke-width:4; stroke-opacity:1; fill:none\" points=\"\n",
       "  418.73,1693.37 2553.77,1693.37 \n",
       "  \"/>\n",
       "<polyline clip-path=\"url(#clip370)\" style=\"stroke:#000000; stroke-linecap:round; stroke-linejoin:round; stroke-width:4; stroke-opacity:1; fill:none\" points=\"\n",
       "  418.73,141.732 2553.77,141.732 \n",
       "  \"/>\n",
       "<polyline clip-path=\"url(#clip370)\" style=\"stroke:#000000; stroke-linecap:round; stroke-linejoin:round; stroke-width:4; stroke-opacity:1; fill:none\" points=\"\n",
       "  479.156,1693.37 479.156,1674.47 \n",
       "  \"/>\n",
       "<polyline clip-path=\"url(#clip370)\" style=\"stroke:#000000; stroke-linecap:round; stroke-linejoin:round; stroke-width:4; stroke-opacity:1; fill:none\" points=\"\n",
       "  982.703,1693.37 982.703,1674.47 \n",
       "  \"/>\n",
       "<polyline clip-path=\"url(#clip370)\" style=\"stroke:#000000; stroke-linecap:round; stroke-linejoin:round; stroke-width:4; stroke-opacity:1; fill:none\" points=\"\n",
       "  1486.25,1693.37 1486.25,1674.47 \n",
       "  \"/>\n",
       "<polyline clip-path=\"url(#clip370)\" style=\"stroke:#000000; stroke-linecap:round; stroke-linejoin:round; stroke-width:4; stroke-opacity:1; fill:none\" points=\"\n",
       "  1989.8,1693.37 1989.8,1674.47 \n",
       "  \"/>\n",
       "<polyline clip-path=\"url(#clip370)\" style=\"stroke:#000000; stroke-linecap:round; stroke-linejoin:round; stroke-width:4; stroke-opacity:1; fill:none\" points=\"\n",
       "  2493.34,1693.37 2493.34,1674.47 \n",
       "  \"/>\n",
       "<path clip-path=\"url(#clip370)\" d=\"M429.724 1769.65 L429.724 1765.17 L449.919 1765.17 L449.919 1769.65 L429.724 1769.65 Z\" fill=\"#000000\" fill-rule=\"evenodd\" fill-opacity=\"1\" /><path clip-path=\"url(#clip370)\" d=\"M457.997 1783.77 Q457.997 1782.4 458.109 1781.99 Q458.257 1781.59 458.85 1780.96 L473.412 1764.73 Q481.379 1755.76 481.379 1747.94 Q481.379 1742.86 478.711 1739.23 Q476.08 1735.6 471.226 1735.6 Q467.891 1735.6 465.075 1737.64 Q462.259 1739.68 460.962 1743.31 Q461.184 1743.23 461.962 1743.23 Q463.852 1743.23 464.89 1744.42 Q465.964 1745.6 465.964 1747.2 Q465.964 1749.24 464.63 1750.24 Q463.333 1751.2 462.036 1751.2 Q461.518 1751.2 460.814 1751.09 Q460.147 1750.98 459.072 1749.94 Q457.997 1748.87 457.997 1746.98 Q457.997 1741.68 461.999 1737.45 Q466.038 1733.23 472.19 1733.23 Q479.156 1733.23 483.714 1737.38 Q488.308 1741.49 488.308 1747.94 Q488.308 1750.2 487.604 1752.27 Q486.937 1754.31 486.011 1755.91 Q485.122 1757.5 482.676 1760.06 Q480.23 1762.61 478.267 1764.43 Q476.303 1766.24 471.893 1770.1 L463.852 1777.92 L477.525 1777.92 Q484.195 1777.92 484.714 1777.32 Q485.455 1776.25 486.382 1770.58 L488.308 1770.58 L486.159 1783.77 L457.997 1783.77 Z\" fill=\"#000000\" fill-rule=\"evenodd\" fill-opacity=\"1\" /><path clip-path=\"url(#clip370)\" d=\"M494.423 1756.76 Q494.423 1755.68 496.016 1753.87 Q497.609 1752.05 499.314 1751.46 Q500.24 1751.16 502.093 1751.13 L526.253 1751.13 Q527.253 1751.13 527.587 1751.5 Q527.92 1751.83 527.92 1752.87 L527.92 1754.31 Q527.92 1755.31 527.587 1755.65 Q527.29 1755.98 526.475 1756.05 L517.953 1756.05 L517.953 1766.32 Q517.953 1778.84 523.288 1778.84 Q524.585 1778.84 525.771 1777.95 Q526.994 1777.03 527.29 1777.03 Q528.587 1777.03 528.587 1779.29 Q528.587 1781.4 527.068 1783.03 Q525.549 1784.62 523.288 1784.62 Q520.843 1784.62 519.249 1783.18 Q517.656 1781.73 516.989 1778.99 Q516.359 1776.25 516.211 1774.17 Q516.063 1772.1 516.063 1768.99 L516.063 1756.05 L506.132 1756.05 L506.132 1766.17 Q506.132 1774.73 504.983 1782.03 Q504.39 1785.14 502.093 1785.14 Q500.722 1785.14 499.833 1784.22 Q498.98 1783.33 498.98 1782.33 Q498.98 1781.4 499.796 1780.14 Q500.648 1778.84 501.611 1777.47 Q502.575 1776.1 503.39 1773.1 Q504.242 1770.1 504.242 1766.32 Q504.242 1766.02 504.205 1765.36 Q504.168 1764.65 504.168 1764.28 L504.168 1756.05 L502.093 1756.05 Q500.055 1756.05 498.573 1756.43 Q497.091 1756.76 496.349 1757.13 Q495.645 1757.5 495.349 1757.5 Q495.052 1757.5 494.719 1757.24 Q494.423 1756.98 494.423 1756.76 Z\" fill=\"#000000\" fill-rule=\"evenodd\" fill-opacity=\"1\" /><path clip-path=\"url(#clip370)\" d=\"M952.244 1769.65 L952.244 1765.17 L972.439 1765.17 L972.439 1769.65 L952.244 1769.65 Z\" fill=\"#000000\" fill-rule=\"evenodd\" fill-opacity=\"1\" /><path clip-path=\"url(#clip370)\" d=\"M978.998 1756.76 Q978.998 1755.68 980.591 1753.87 Q982.184 1752.05 983.889 1751.46 Q984.815 1751.16 986.668 1751.13 L1010.83 1751.13 Q1011.83 1751.13 1012.16 1751.5 Q1012.5 1751.83 1012.5 1752.87 L1012.5 1754.31 Q1012.5 1755.31 1012.16 1755.65 Q1011.87 1755.98 1011.05 1756.05 L1002.53 1756.05 L1002.53 1766.32 Q1002.53 1778.84 1007.86 1778.84 Q1009.16 1778.84 1010.35 1777.95 Q1011.57 1777.03 1011.87 1777.03 Q1013.16 1777.03 1013.16 1779.29 Q1013.16 1781.4 1011.64 1783.03 Q1010.12 1784.62 1007.86 1784.62 Q1005.42 1784.62 1003.82 1783.18 Q1002.23 1781.73 1001.56 1778.99 Q1000.93 1776.25 1000.79 1774.17 Q1000.64 1772.1 1000.64 1768.99 L1000.64 1756.05 L990.707 1756.05 L990.707 1766.17 Q990.707 1774.73 989.558 1782.03 Q988.965 1785.14 986.668 1785.14 Q985.297 1785.14 984.408 1784.22 Q983.555 1783.33 983.555 1782.33 Q983.555 1781.4 984.371 1780.14 Q985.223 1778.84 986.186 1777.47 Q987.15 1776.1 987.965 1773.1 Q988.817 1770.1 988.817 1766.32 Q988.817 1766.02 988.78 1765.36 Q988.743 1764.65 988.743 1764.28 L988.743 1756.05 L986.668 1756.05 Q984.63 1756.05 983.148 1756.43 Q981.666 1756.76 980.924 1757.13 Q980.22 1757.5 979.924 1757.5 Q979.627 1757.5 979.294 1757.24 Q978.998 1756.98 978.998 1756.76 Z\" fill=\"#000000\" fill-rule=\"evenodd\" fill-opacity=\"1\" /><path clip-path=\"url(#clip370)\" d=\"M1470.28 1759.5 Q1470.28 1748.35 1473.1 1742.27 Q1477.02 1733.23 1486.29 1733.23 Q1488.25 1733.23 1490.29 1733.78 Q1492.36 1734.3 1494.96 1736.34 Q1497.59 1738.38 1499.18 1741.71 Q1502.22 1748.16 1502.22 1759.5 Q1502.22 1770.58 1499.4 1776.62 Q1495.29 1785.44 1486.21 1785.44 Q1482.8 1785.44 1479.32 1783.7 Q1475.87 1781.96 1473.69 1777.77 Q1470.28 1771.51 1470.28 1759.5 M1476.58 1758.57 Q1476.58 1770.02 1477.39 1774.58 Q1478.32 1779.51 1480.84 1781.66 Q1483.4 1783.77 1486.21 1783.77 Q1489.25 1783.77 1491.77 1781.51 Q1494.33 1779.21 1495.11 1774.29 Q1495.96 1769.43 1495.92 1758.57 Q1495.92 1748.01 1495.18 1743.79 Q1494.18 1738.86 1491.51 1736.9 Q1488.88 1734.9 1486.21 1734.9 Q1485.21 1734.9 1484.14 1735.19 Q1483.1 1735.49 1481.58 1736.34 Q1480.06 1737.19 1478.88 1739.31 Q1477.73 1741.42 1477.17 1744.6 Q1476.58 1748.72 1476.58 1758.57 Z\" fill=\"#000000\" fill-rule=\"evenodd\" fill-opacity=\"1\" /><path clip-path=\"url(#clip370)\" d=\"M1972.72 1756.76 Q1972.72 1755.68 1974.31 1753.87 Q1975.9 1752.05 1977.61 1751.46 Q1978.53 1751.16 1980.39 1751.13 L2004.55 1751.13 Q2005.55 1751.13 2005.88 1751.5 Q2006.21 1751.83 2006.21 1752.87 L2006.21 1754.31 Q2006.21 1755.31 2005.88 1755.65 Q2005.58 1755.98 2004.77 1756.05 L1996.25 1756.05 L1996.25 1766.32 Q1996.25 1778.84 2001.58 1778.84 Q2002.88 1778.84 2004.06 1777.95 Q2005.29 1777.03 2005.58 1777.03 Q2006.88 1777.03 2006.88 1779.29 Q2006.88 1781.4 2005.36 1783.03 Q2003.84 1784.62 2001.58 1784.62 Q1999.14 1784.62 1997.54 1783.18 Q1995.95 1781.73 1995.28 1778.99 Q1994.65 1776.25 1994.5 1774.17 Q1994.36 1772.1 1994.36 1768.99 L1994.36 1756.05 L1984.42 1756.05 L1984.42 1766.17 Q1984.42 1774.73 1983.28 1782.03 Q1982.68 1785.14 1980.39 1785.14 Q1979.01 1785.14 1978.13 1784.22 Q1977.27 1783.33 1977.27 1782.33 Q1977.27 1781.4 1978.09 1780.14 Q1978.94 1778.84 1979.9 1777.47 Q1980.87 1776.1 1981.68 1773.1 Q1982.53 1770.1 1982.53 1766.32 Q1982.53 1766.02 1982.5 1765.36 Q1982.46 1764.65 1982.46 1764.28 L1982.46 1756.05 L1980.39 1756.05 Q1978.35 1756.05 1976.87 1756.43 Q1975.38 1756.76 1974.64 1757.13 Q1973.94 1757.5 1973.64 1757.5 Q1973.34 1757.5 1973.01 1757.24 Q1972.72 1756.98 1972.72 1756.76 Z\" fill=\"#000000\" fill-rule=\"evenodd\" fill-opacity=\"1\" /><path clip-path=\"url(#clip370)\" d=\"M2458.05 1783.77 Q2458.05 1782.4 2458.16 1781.99 Q2458.31 1781.59 2458.9 1780.96 L2473.46 1764.73 Q2481.43 1755.76 2481.43 1747.94 Q2481.43 1742.86 2478.76 1739.23 Q2476.13 1735.6 2471.28 1735.6 Q2467.94 1735.6 2465.13 1737.64 Q2462.31 1739.68 2461.01 1743.31 Q2461.24 1743.23 2462.01 1743.23 Q2463.9 1743.23 2464.94 1744.42 Q2466.02 1745.6 2466.02 1747.2 Q2466.02 1749.24 2464.68 1750.24 Q2463.39 1751.2 2462.09 1751.2 Q2461.57 1751.2 2460.87 1751.09 Q2460.2 1750.98 2459.12 1749.94 Q2458.05 1748.87 2458.05 1746.98 Q2458.05 1741.68 2462.05 1737.45 Q2466.09 1733.23 2472.24 1733.23 Q2479.21 1733.23 2483.77 1737.38 Q2488.36 1741.49 2488.36 1747.94 Q2488.36 1750.2 2487.66 1752.27 Q2486.99 1754.31 2486.06 1755.91 Q2485.17 1757.5 2482.73 1760.06 Q2480.28 1762.61 2478.32 1764.43 Q2476.35 1766.24 2471.95 1770.1 L2463.9 1777.92 L2477.58 1777.92 Q2484.25 1777.92 2484.77 1777.32 Q2485.51 1776.25 2486.43 1770.58 L2488.36 1770.58 L2486.21 1783.77 L2458.05 1783.77 Z\" fill=\"#000000\" fill-rule=\"evenodd\" fill-opacity=\"1\" /><path clip-path=\"url(#clip370)\" d=\"M2494.47 1756.76 Q2494.47 1755.68 2496.07 1753.87 Q2497.66 1752.05 2499.37 1751.46 Q2500.29 1751.16 2502.15 1751.13 L2526.31 1751.13 Q2527.31 1751.13 2527.64 1751.5 Q2527.97 1751.83 2527.97 1752.87 L2527.97 1754.31 Q2527.97 1755.31 2527.64 1755.65 Q2527.34 1755.98 2526.53 1756.05 L2518 1756.05 L2518 1766.32 Q2518 1778.84 2523.34 1778.84 Q2524.64 1778.84 2525.82 1777.95 Q2527.05 1777.03 2527.34 1777.03 Q2528.64 1777.03 2528.64 1779.29 Q2528.64 1781.4 2527.12 1783.03 Q2525.6 1784.62 2523.34 1784.62 Q2520.9 1784.62 2519.3 1783.18 Q2517.71 1781.73 2517.04 1778.99 Q2516.41 1776.25 2516.26 1774.17 Q2516.11 1772.1 2516.11 1768.99 L2516.11 1756.05 L2506.18 1756.05 L2506.18 1766.17 Q2506.18 1774.73 2505.04 1782.03 Q2504.44 1785.14 2502.15 1785.14 Q2500.77 1785.14 2499.88 1784.22 Q2499.03 1783.33 2499.03 1782.33 Q2499.03 1781.4 2499.85 1780.14 Q2500.7 1778.84 2501.66 1777.47 Q2502.63 1776.1 2503.44 1773.1 Q2504.29 1770.1 2504.29 1766.32 Q2504.29 1766.02 2504.26 1765.36 Q2504.22 1764.65 2504.22 1764.28 L2504.22 1756.05 L2502.15 1756.05 Q2500.11 1756.05 2498.62 1756.43 Q2497.14 1756.76 2496.4 1757.13 Q2495.7 1757.5 2495.4 1757.5 Q2495.1 1757.5 2494.77 1757.24 Q2494.47 1756.98 2494.47 1756.76 Z\" fill=\"#000000\" fill-rule=\"evenodd\" fill-opacity=\"1\" /><path clip-path=\"url(#clip370)\" d=\"M1386.21 1836.39 Q1386.21 1844.26 1383.68 1853.12 Q1381.2 1861.93 1377.26 1869.05 Q1373.33 1876.12 1368.17 1880.8 Q1363.02 1885.44 1358.1 1885.44 Q1354.96 1885.44 1352.62 1883.71 Q1350.32 1881.93 1349.06 1878.98 Q1347.79 1875.98 1347.19 1872.7 Q1346.58 1869.37 1346.58 1865.77 Q1346.58 1860.38 1347.75 1854.52 Q1348.92 1848.62 1350.89 1843.28 Q1352.85 1837.89 1355.62 1833.02 Q1358.38 1828.1 1361.43 1824.54 Q1364.52 1820.94 1367.99 1818.83 Q1371.45 1816.72 1374.68 1816.72 Q1377.03 1816.72 1378.9 1817.75 Q1380.82 1818.73 1382.04 1820.47 Q1383.26 1822.15 1384.1 1824.17 Q1384.99 1826.18 1385.41 1828.52 Q1385.83 1830.82 1386.02 1832.74 Q1386.21 1834.61 1386.21 1836.39 M1379.88 1830.45 Q1379.88 1828.06 1379.7 1826.28 Q1379.51 1824.45 1378.99 1822.62 Q1378.48 1820.8 1377.35 1819.81 Q1376.28 1818.83 1374.59 1818.83 Q1369.67 1818.83 1364.14 1828.9 Q1362.36 1832.04 1360.77 1836.3 Q1359.18 1840.56 1358.62 1842.58 Q1358.05 1844.59 1356.74 1849.56 L1376.79 1849.56 Q1379.88 1836.77 1379.88 1830.45 M1375.95 1852.6 L1355.99 1852.6 Q1352.9 1864.31 1352.9 1871.62 Q1352.9 1877.99 1354.21 1880.66 Q1355.57 1883.29 1358.1 1883.29 Q1361.01 1883.29 1363.72 1880.38 Q1366.44 1877.43 1369.2 1872.09 Q1372.86 1865.16 1375.95 1852.6 Z\" fill=\"#006400\" fill-rule=\"evenodd\" fill-opacity=\"1\" /><path clip-path=\"url(#clip370)\" d=\"M1412.24 1860.38 Q1412.24 1844.17 1418.28 1831.1 Q1420.86 1825.62 1424.47 1821.03 Q1428.08 1816.44 1430.46 1814.42 Q1432.85 1812.41 1433.51 1812.41 Q1434.45 1812.41 1434.49 1813.35 Q1434.49 1813.82 1433.23 1814.99 Q1417.77 1830.73 1417.82 1860.38 Q1417.82 1890.13 1432.85 1905.26 Q1434.49 1906.9 1434.49 1907.41 Q1434.49 1908.35 1433.51 1908.35 Q1432.85 1908.35 1430.56 1906.43 Q1428.26 1904.51 1424.7 1900.1 Q1421.14 1895.7 1418.57 1890.31 Q1412.24 1877.24 1412.24 1860.38 Z\" fill=\"#006400\" fill-rule=\"evenodd\" fill-opacity=\"1\" /><path clip-path=\"url(#clip370)\" d=\"M1480.85 1848.2 Q1480.85 1850.68 1479.21 1852.28 Q1477.62 1853.87 1475.56 1853.87 Q1473.78 1853.87 1472.84 1852.84 Q1471.91 1851.81 1471.91 1850.5 Q1471.91 1848.62 1473.36 1847.08 Q1474.81 1845.53 1476.92 1845.2 Q1475.37 1844.08 1472.89 1844.08 Q1468.81 1844.08 1465.21 1847.22 Q1463.61 1848.67 1461.88 1851.34 Q1460.15 1853.96 1459.82 1855.09 L1456.78 1867.59 Q1456.49 1869 1454.76 1875.74 Q1453.07 1882.44 1452.93 1882.72 Q1452.47 1884.04 1451.43 1884.74 Q1450.4 1885.44 1449.37 1885.44 Q1448.2 1885.44 1447.41 1884.74 Q1446.61 1884.04 1446.61 1882.82 Q1446.61 1882.63 1446.75 1881.93 Q1446.89 1881.23 1447.12 1880.24 Q1447.36 1879.26 1447.45 1878.7 L1453.03 1856.54 Q1454.06 1852.51 1454.29 1851.24 Q1454.57 1849.93 1454.57 1848.48 Q1454.57 1845.95 1453.78 1845.01 Q1452.98 1844.08 1451.58 1844.08 Q1449.14 1844.08 1447.55 1846.98 Q1445.95 1849.89 1444.6 1855.51 Q1444.17 1857.05 1443.89 1857.38 Q1443.66 1857.71 1442.96 1857.71 Q1441.78 1857.66 1441.78 1856.73 Q1441.78 1856.49 1442.16 1854.99 Q1442.53 1853.45 1443.24 1851.2 Q1443.99 1848.9 1444.78 1847.45 Q1445.25 1846.47 1445.67 1845.81 Q1446.09 1845.15 1446.94 1844.12 Q1447.78 1843.09 1449.05 1842.53 Q1450.31 1841.97 1451.86 1841.97 Q1455.23 1841.97 1457.62 1844.03 Q1460.05 1846.09 1460.62 1849.32 Q1461.79 1847.64 1463.24 1846.19 Q1464.69 1844.69 1467.36 1843.33 Q1470.03 1841.97 1472.89 1841.97 Q1476.45 1841.97 1478.65 1843.8 Q1480.85 1845.58 1480.85 1848.2 Z\" fill=\"#006400\" fill-rule=\"evenodd\" fill-opacity=\"1\" /><path clip-path=\"url(#clip370)\" d=\"M1531.49 1870.64 Q1530.23 1876.68 1528.59 1880.15 Q1525.96 1885.44 1521.51 1885.44 Q1518.14 1885.44 1515.75 1883.38 Q1513.36 1881.32 1512.8 1878.23 Q1506.66 1885.44 1500.29 1885.44 Q1494.67 1885.44 1491.11 1881.18 Q1487.55 1876.87 1487.55 1870.08 Q1487.55 1863.24 1490.92 1856.68 Q1494.34 1850.12 1499.73 1846.04 Q1505.12 1841.97 1510.64 1841.97 Q1516.5 1841.97 1519.5 1848.11 Q1519.73 1846.42 1520.81 1845.15 Q1521.89 1843.89 1523.53 1843.89 Q1524.79 1843.89 1525.54 1844.59 Q1526.29 1845.25 1526.29 1846.47 Q1526.29 1847.08 1525.64 1849.75 L1522.17 1863.14 L1520.06 1871.81 Q1519.26 1875 1519.03 1876.17 Q1518.84 1877.34 1518.84 1878.88 Q1518.84 1883.29 1521.7 1883.29 Q1523.11 1883.29 1524.23 1882.4 Q1525.35 1881.51 1526.24 1879.63 Q1527.13 1877.76 1527.7 1876.03 Q1528.26 1874.25 1529.01 1871.43 Q1529.24 1870.31 1529.43 1870.03 Q1529.66 1869.7 1530.32 1869.7 Q1531.49 1869.7 1531.49 1870.64 M1518.33 1852.51 Q1518.33 1852.09 1518 1850.92 Q1517.67 1849.75 1516.92 1848.11 Q1516.17 1846.47 1514.53 1845.3 Q1512.94 1844.08 1510.79 1844.08 Q1507.88 1844.08 1504.84 1846.56 Q1501.84 1849.04 1499.64 1853.26 Q1497.95 1856.63 1496.12 1863.71 Q1494.34 1870.78 1494.34 1874.29 Q1494.34 1876.45 1494.81 1878.37 Q1495.33 1880.24 1496.78 1881.79 Q1498.23 1883.29 1500.48 1883.29 Q1505.96 1883.29 1511.35 1876.49 Q1512.38 1875.32 1512.61 1874.85 Q1512.89 1874.34 1513.27 1872.93 L1518.05 1854.15 Q1518.33 1852.74 1518.33 1852.51 Z\" fill=\"#006400\" fill-rule=\"evenodd\" fill-opacity=\"1\" /><path clip-path=\"url(#clip370)\" d=\"M1583.47 1818.83 L1569.65 1874.29 Q1569.09 1876.78 1569.09 1878.88 Q1569.09 1883.29 1571.95 1883.29 Q1573.35 1883.29 1574.48 1882.4 Q1575.6 1881.51 1576.49 1879.63 Q1577.38 1877.76 1577.94 1876.03 Q1578.51 1874.25 1579.26 1871.43 Q1579.49 1870.31 1579.68 1870.03 Q1579.91 1869.7 1580.57 1869.7 Q1581.74 1869.7 1581.74 1870.64 Q1580.47 1876.68 1578.83 1880.15 Q1576.21 1885.44 1571.76 1885.44 Q1568.39 1885.44 1566 1883.38 Q1563.61 1881.32 1563.05 1878.23 Q1556.91 1885.44 1550.54 1885.44 Q1544.92 1885.44 1541.36 1881.18 Q1537.8 1876.87 1537.8 1870.08 Q1537.8 1863.24 1541.17 1856.68 Q1544.59 1850.12 1549.98 1846.04 Q1555.36 1841.97 1560.89 1841.97 Q1566.75 1841.97 1569.75 1848.11 L1575.51 1825.34 L1575.79 1823.47 Q1575.79 1822.9 1575.56 1822.62 Q1575.37 1822.29 1574.24 1822.06 Q1573.17 1821.83 1571.01 1821.83 Q1570.12 1821.83 1569.7 1821.78 Q1569.32 1821.73 1569 1821.5 Q1568.67 1821.22 1568.67 1820.66 Q1568.67 1819.02 1570.03 1818.83 Q1579.02 1817.8 1582.21 1817.8 Q1582.77 1817.8 1583.1 1818.08 Q1583.43 1818.31 1583.43 1818.59 L1583.47 1818.83 M1568.58 1852.51 Q1568.58 1852.09 1568.25 1850.92 Q1567.92 1849.75 1567.17 1848.11 Q1566.42 1846.47 1564.78 1845.3 Q1563.19 1844.08 1561.03 1844.08 Q1558.13 1844.08 1555.08 1846.56 Q1552.09 1849.04 1549.88 1853.26 Q1548.2 1856.63 1546.37 1863.71 Q1544.59 1870.78 1544.59 1874.29 Q1544.59 1876.45 1545.06 1878.37 Q1545.57 1880.24 1547.03 1881.79 Q1548.48 1883.29 1550.73 1883.29 Q1556.21 1883.29 1561.6 1876.49 Q1562.63 1875.32 1562.86 1874.85 Q1563.14 1874.34 1563.52 1872.93 L1568.29 1854.15 Q1568.58 1852.74 1568.58 1852.51 Z\" fill=\"#006400\" fill-rule=\"evenodd\" fill-opacity=\"1\" /><path clip-path=\"url(#clip370)\" d=\"M1589.08 1907.41 Q1589.08 1906.94 1590.3 1905.77 Q1605.76 1890.03 1605.76 1860.38 Q1605.76 1830.63 1590.91 1815.6 Q1589.08 1813.86 1589.08 1813.35 Q1589.08 1812.41 1590.02 1812.41 Q1590.68 1812.41 1592.97 1814.33 Q1595.31 1816.25 1598.83 1820.66 Q1602.39 1825.06 1605.01 1830.45 Q1611.34 1843.52 1611.34 1860.38 Q1611.34 1876.59 1605.29 1889.66 Q1602.72 1895.14 1599.11 1899.73 Q1595.5 1904.32 1593.11 1906.33 Q1590.72 1908.35 1590.02 1908.35 Q1589.08 1908.35 1589.08 1907.41 Z\" fill=\"#006400\" fill-rule=\"evenodd\" fill-opacity=\"1\" /><polyline clip-path=\"url(#clip372)\" style=\"stroke:#000000; stroke-linecap:round; stroke-linejoin:round; stroke-width:2; stroke-opacity:0.1; fill:none\" points=\"\n",
       "  418.73,1649.46 2553.77,1649.46 \n",
       "  \"/>\n",
       "<polyline clip-path=\"url(#clip372)\" style=\"stroke:#000000; stroke-linecap:round; stroke-linejoin:round; stroke-width:2; stroke-opacity:0.1; fill:none\" points=\"\n",
       "  418.73,1283.51 2553.77,1283.51 \n",
       "  \"/>\n",
       "<polyline clip-path=\"url(#clip372)\" style=\"stroke:#000000; stroke-linecap:round; stroke-linejoin:round; stroke-width:2; stroke-opacity:0.1; fill:none\" points=\"\n",
       "  418.73,917.555 2553.77,917.555 \n",
       "  \"/>\n",
       "<polyline clip-path=\"url(#clip372)\" style=\"stroke:#000000; stroke-linecap:round; stroke-linejoin:round; stroke-width:2; stroke-opacity:0.1; fill:none\" points=\"\n",
       "  418.73,551.601 2553.77,551.601 \n",
       "  \"/>\n",
       "<polyline clip-path=\"url(#clip372)\" style=\"stroke:#000000; stroke-linecap:round; stroke-linejoin:round; stroke-width:2; stroke-opacity:0.1; fill:none\" points=\"\n",
       "  418.73,185.647 2553.77,185.647 \n",
       "  \"/>\n",
       "<polyline clip-path=\"url(#clip372)\" style=\"stroke:#000000; stroke-linecap:round; stroke-linejoin:round; stroke-width:2; stroke-opacity:0.05; fill:none\" points=\"\n",
       "  418.73,1576.27 2553.77,1576.27 \n",
       "  \"/>\n",
       "<polyline clip-path=\"url(#clip372)\" style=\"stroke:#000000; stroke-linecap:round; stroke-linejoin:round; stroke-width:2; stroke-opacity:0.05; fill:none\" points=\"\n",
       "  418.73,1503.08 2553.77,1503.08 \n",
       "  \"/>\n",
       "<polyline clip-path=\"url(#clip372)\" style=\"stroke:#000000; stroke-linecap:round; stroke-linejoin:round; stroke-width:2; stroke-opacity:0.05; fill:none\" points=\"\n",
       "  418.73,1429.89 2553.77,1429.89 \n",
       "  \"/>\n",
       "<polyline clip-path=\"url(#clip372)\" style=\"stroke:#000000; stroke-linecap:round; stroke-linejoin:round; stroke-width:2; stroke-opacity:0.05; fill:none\" points=\"\n",
       "  418.73,1356.7 2553.77,1356.7 \n",
       "  \"/>\n",
       "<polyline clip-path=\"url(#clip372)\" style=\"stroke:#000000; stroke-linecap:round; stroke-linejoin:round; stroke-width:2; stroke-opacity:0.05; fill:none\" points=\"\n",
       "  418.73,1210.32 2553.77,1210.32 \n",
       "  \"/>\n",
       "<polyline clip-path=\"url(#clip372)\" style=\"stroke:#000000; stroke-linecap:round; stroke-linejoin:round; stroke-width:2; stroke-opacity:0.05; fill:none\" points=\"\n",
       "  418.73,1137.13 2553.77,1137.13 \n",
       "  \"/>\n",
       "<polyline clip-path=\"url(#clip372)\" style=\"stroke:#000000; stroke-linecap:round; stroke-linejoin:round; stroke-width:2; stroke-opacity:0.05; fill:none\" points=\"\n",
       "  418.73,1063.94 2553.77,1063.94 \n",
       "  \"/>\n",
       "<polyline clip-path=\"url(#clip372)\" style=\"stroke:#000000; stroke-linecap:round; stroke-linejoin:round; stroke-width:2; stroke-opacity:0.05; fill:none\" points=\"\n",
       "  418.73,990.746 2553.77,990.746 \n",
       "  \"/>\n",
       "<polyline clip-path=\"url(#clip372)\" style=\"stroke:#000000; stroke-linecap:round; stroke-linejoin:round; stroke-width:2; stroke-opacity:0.05; fill:none\" points=\"\n",
       "  418.73,844.364 2553.77,844.364 \n",
       "  \"/>\n",
       "<polyline clip-path=\"url(#clip372)\" style=\"stroke:#000000; stroke-linecap:round; stroke-linejoin:round; stroke-width:2; stroke-opacity:0.05; fill:none\" points=\"\n",
       "  418.73,771.173 2553.77,771.173 \n",
       "  \"/>\n",
       "<polyline clip-path=\"url(#clip372)\" style=\"stroke:#000000; stroke-linecap:round; stroke-linejoin:round; stroke-width:2; stroke-opacity:0.05; fill:none\" points=\"\n",
       "  418.73,697.983 2553.77,697.983 \n",
       "  \"/>\n",
       "<polyline clip-path=\"url(#clip372)\" style=\"stroke:#000000; stroke-linecap:round; stroke-linejoin:round; stroke-width:2; stroke-opacity:0.05; fill:none\" points=\"\n",
       "  418.73,624.792 2553.77,624.792 \n",
       "  \"/>\n",
       "<polyline clip-path=\"url(#clip372)\" style=\"stroke:#000000; stroke-linecap:round; stroke-linejoin:round; stroke-width:2; stroke-opacity:0.05; fill:none\" points=\"\n",
       "  418.73,478.41 2553.77,478.41 \n",
       "  \"/>\n",
       "<polyline clip-path=\"url(#clip372)\" style=\"stroke:#000000; stroke-linecap:round; stroke-linejoin:round; stroke-width:2; stroke-opacity:0.05; fill:none\" points=\"\n",
       "  418.73,405.219 2553.77,405.219 \n",
       "  \"/>\n",
       "<polyline clip-path=\"url(#clip372)\" style=\"stroke:#000000; stroke-linecap:round; stroke-linejoin:round; stroke-width:2; stroke-opacity:0.05; fill:none\" points=\"\n",
       "  418.73,332.028 2553.77,332.028 \n",
       "  \"/>\n",
       "<polyline clip-path=\"url(#clip372)\" style=\"stroke:#000000; stroke-linecap:round; stroke-linejoin:round; stroke-width:2; stroke-opacity:0.05; fill:none\" points=\"\n",
       "  418.73,258.837 2553.77,258.837 \n",
       "  \"/>\n",
       "<polyline clip-path=\"url(#clip370)\" style=\"stroke:#000000; stroke-linecap:round; stroke-linejoin:round; stroke-width:4; stroke-opacity:1; fill:none\" points=\"\n",
       "  418.73,1693.37 418.73,141.732 \n",
       "  \"/>\n",
       "<polyline clip-path=\"url(#clip370)\" style=\"stroke:#000000; stroke-linecap:round; stroke-linejoin:round; stroke-width:4; stroke-opacity:1; fill:none\" points=\"\n",
       "  2553.77,1693.37 2553.77,141.732 \n",
       "  \"/>\n",
       "<polyline clip-path=\"url(#clip370)\" style=\"stroke:#000000; stroke-linecap:round; stroke-linejoin:round; stroke-width:4; stroke-opacity:1; fill:none\" points=\"\n",
       "  418.73,1649.46 434.016,1649.46 \n",
       "  \"/>\n",
       "<polyline clip-path=\"url(#clip370)\" style=\"stroke:#000000; stroke-linecap:round; stroke-linejoin:round; stroke-width:4; stroke-opacity:1; fill:none\" points=\"\n",
       "  418.73,1283.51 434.016,1283.51 \n",
       "  \"/>\n",
       "<polyline clip-path=\"url(#clip370)\" style=\"stroke:#000000; stroke-linecap:round; stroke-linejoin:round; stroke-width:4; stroke-opacity:1; fill:none\" points=\"\n",
       "  418.73,917.555 434.016,917.555 \n",
       "  \"/>\n",
       "<polyline clip-path=\"url(#clip370)\" style=\"stroke:#000000; stroke-linecap:round; stroke-linejoin:round; stroke-width:4; stroke-opacity:1; fill:none\" points=\"\n",
       "  418.73,551.601 434.016,551.601 \n",
       "  \"/>\n",
       "<polyline clip-path=\"url(#clip370)\" style=\"stroke:#000000; stroke-linecap:round; stroke-linejoin:round; stroke-width:4; stroke-opacity:1; fill:none\" points=\"\n",
       "  418.73,185.647 434.016,185.647 \n",
       "  \"/>\n",
       "<polyline clip-path=\"url(#clip370)\" style=\"stroke:#000000; stroke-linecap:round; stroke-linejoin:round; stroke-width:4; stroke-opacity:1; fill:none\" points=\"\n",
       "  418.73,1576.27 426.373,1576.27 \n",
       "  \"/>\n",
       "<polyline clip-path=\"url(#clip370)\" style=\"stroke:#000000; stroke-linecap:round; stroke-linejoin:round; stroke-width:4; stroke-opacity:1; fill:none\" points=\"\n",
       "  418.73,1503.08 426.373,1503.08 \n",
       "  \"/>\n",
       "<polyline clip-path=\"url(#clip370)\" style=\"stroke:#000000; stroke-linecap:round; stroke-linejoin:round; stroke-width:4; stroke-opacity:1; fill:none\" points=\"\n",
       "  418.73,1429.89 426.373,1429.89 \n",
       "  \"/>\n",
       "<polyline clip-path=\"url(#clip370)\" style=\"stroke:#000000; stroke-linecap:round; stroke-linejoin:round; stroke-width:4; stroke-opacity:1; fill:none\" points=\"\n",
       "  418.73,1356.7 426.373,1356.7 \n",
       "  \"/>\n",
       "<polyline clip-path=\"url(#clip370)\" style=\"stroke:#000000; stroke-linecap:round; stroke-linejoin:round; stroke-width:4; stroke-opacity:1; fill:none\" points=\"\n",
       "  418.73,1210.32 426.373,1210.32 \n",
       "  \"/>\n",
       "<polyline clip-path=\"url(#clip370)\" style=\"stroke:#000000; stroke-linecap:round; stroke-linejoin:round; stroke-width:4; stroke-opacity:1; fill:none\" points=\"\n",
       "  418.73,1137.13 426.373,1137.13 \n",
       "  \"/>\n",
       "<polyline clip-path=\"url(#clip370)\" style=\"stroke:#000000; stroke-linecap:round; stroke-linejoin:round; stroke-width:4; stroke-opacity:1; fill:none\" points=\"\n",
       "  418.73,1063.94 426.373,1063.94 \n",
       "  \"/>\n",
       "<polyline clip-path=\"url(#clip370)\" style=\"stroke:#000000; stroke-linecap:round; stroke-linejoin:round; stroke-width:4; stroke-opacity:1; fill:none\" points=\"\n",
       "  418.73,990.746 426.373,990.746 \n",
       "  \"/>\n",
       "<polyline clip-path=\"url(#clip370)\" style=\"stroke:#000000; stroke-linecap:round; stroke-linejoin:round; stroke-width:4; stroke-opacity:1; fill:none\" points=\"\n",
       "  418.73,844.364 426.373,844.364 \n",
       "  \"/>\n",
       "<polyline clip-path=\"url(#clip370)\" style=\"stroke:#000000; stroke-linecap:round; stroke-linejoin:round; stroke-width:4; stroke-opacity:1; fill:none\" points=\"\n",
       "  418.73,771.173 426.373,771.173 \n",
       "  \"/>\n",
       "<polyline clip-path=\"url(#clip370)\" style=\"stroke:#000000; stroke-linecap:round; stroke-linejoin:round; stroke-width:4; stroke-opacity:1; fill:none\" points=\"\n",
       "  418.73,697.983 426.373,697.983 \n",
       "  \"/>\n",
       "<polyline clip-path=\"url(#clip370)\" style=\"stroke:#000000; stroke-linecap:round; stroke-linejoin:round; stroke-width:4; stroke-opacity:1; fill:none\" points=\"\n",
       "  418.73,624.792 426.373,624.792 \n",
       "  \"/>\n",
       "<polyline clip-path=\"url(#clip370)\" style=\"stroke:#000000; stroke-linecap:round; stroke-linejoin:round; stroke-width:4; stroke-opacity:1; fill:none\" points=\"\n",
       "  418.73,478.41 426.373,478.41 \n",
       "  \"/>\n",
       "<polyline clip-path=\"url(#clip370)\" style=\"stroke:#000000; stroke-linecap:round; stroke-linejoin:round; stroke-width:4; stroke-opacity:1; fill:none\" points=\"\n",
       "  418.73,405.219 426.373,405.219 \n",
       "  \"/>\n",
       "<polyline clip-path=\"url(#clip370)\" style=\"stroke:#000000; stroke-linecap:round; stroke-linejoin:round; stroke-width:4; stroke-opacity:1; fill:none\" points=\"\n",
       "  418.73,332.028 426.373,332.028 \n",
       "  \"/>\n",
       "<polyline clip-path=\"url(#clip370)\" style=\"stroke:#000000; stroke-linecap:round; stroke-linejoin:round; stroke-width:4; stroke-opacity:1; fill:none\" points=\"\n",
       "  418.73,258.837 426.373,258.837 \n",
       "  \"/>\n",
       "<path clip-path=\"url(#clip370)\" d=\"M272.127 1655.34 Q272.571 1655.78 272.571 1656.41 Q272.571 1657.04 272.127 1657.49 Q271.682 1657.93 271.052 1657.93 L223.548 1657.93 Q222.918 1657.93 222.473 1657.49 Q222.028 1657.04 222.028 1656.41 Q222.028 1655.78 222.473 1655.34 Q222.918 1654.89 223.548 1654.89 L271.052 1654.89 Q271.682 1654.89 272.127 1655.34 Z\" fill=\"#000000\" fill-rule=\"evenodd\" fill-opacity=\"1\" /><path clip-path=\"url(#clip370)\" d=\"M283.54 1632.07 L283.54 1629.69 Q292.655 1629.69 297.361 1624.84 Q298.658 1624.84 298.88 1625.14 Q299.103 1625.43 299.103 1626.8 L299.103 1669.38 Q299.103 1671.64 300.214 1672.35 Q301.326 1673.05 306.18 1673.05 L308.589 1673.05 L308.589 1675.38 Q305.921 1675.16 296.287 1675.16 Q286.652 1675.16 284.021 1675.38 L284.021 1673.05 L286.43 1673.05 Q291.21 1673.05 292.359 1672.38 Q293.508 1671.68 293.508 1669.38 L293.508 1630.07 Q289.543 1632.07 283.54 1632.07 Z\" fill=\"#000000\" fill-rule=\"evenodd\" fill-opacity=\"1\" /><path clip-path=\"url(#clip370)\" d=\"M322.336 1674.16 Q321.188 1672.94 321.188 1671.34 Q321.188 1669.75 322.336 1668.6 Q323.485 1667.42 325.227 1667.42 Q326.894 1667.42 328.006 1668.53 Q329.154 1669.6 329.154 1671.38 Q329.154 1673.12 327.932 1674.27 Q326.746 1675.38 325.227 1675.38 Q323.485 1675.38 322.336 1674.16 Z\" fill=\"#000000\" fill-rule=\"evenodd\" fill-opacity=\"1\" /><path clip-path=\"url(#clip370)\" d=\"M338.789 1651.11 Q338.789 1639.96 341.605 1633.88 Q345.533 1624.84 354.797 1624.84 Q356.76 1624.84 358.798 1625.4 Q360.874 1625.92 363.467 1627.95 Q366.098 1629.99 367.692 1633.33 Q370.73 1639.77 370.73 1651.11 Q370.73 1662.19 367.914 1668.23 Q363.801 1677.05 354.722 1677.05 Q351.313 1677.05 347.83 1675.31 Q344.384 1673.57 342.198 1669.38 Q338.789 1663.12 338.789 1651.11 M345.088 1650.19 Q345.088 1661.64 345.903 1666.19 Q346.83 1671.12 349.349 1673.27 Q351.906 1675.38 354.722 1675.38 Q357.761 1675.38 360.281 1673.12 Q362.837 1670.83 363.616 1665.9 Q364.468 1661.04 364.431 1650.19 Q364.431 1639.63 363.69 1635.4 Q362.689 1630.47 360.021 1628.51 Q357.39 1626.51 354.722 1626.51 Q353.722 1626.51 352.647 1626.8 Q351.61 1627.1 350.091 1627.95 Q348.571 1628.81 347.386 1630.92 Q346.237 1633.03 345.681 1636.22 Q345.088 1640.33 345.088 1650.19 Z\" fill=\"#000000\" fill-rule=\"evenodd\" fill-opacity=\"1\" /><path clip-path=\"url(#clip370)\" d=\"M272.942 1289.38 Q273.387 1289.83 273.387 1290.46 Q273.387 1291.09 272.942 1291.53 Q272.497 1291.98 271.867 1291.98 L224.363 1291.98 Q223.733 1291.98 223.288 1291.53 Q222.844 1291.09 222.844 1290.46 Q222.844 1289.83 223.288 1289.38 Q223.733 1288.94 224.363 1288.94 L271.867 1288.94 Q272.497 1288.94 272.942 1289.38 Z\" fill=\"#000000\" fill-rule=\"evenodd\" fill-opacity=\"1\" /><path clip-path=\"url(#clip370)\" d=\"M280.575 1285.16 Q280.575 1274 283.391 1267.93 Q287.319 1258.89 296.583 1258.89 Q298.547 1258.89 300.585 1259.44 Q302.66 1259.96 305.254 1262 Q307.885 1264.04 309.478 1267.37 Q312.517 1273.82 312.517 1285.16 Q312.517 1296.24 309.701 1302.28 Q305.587 1311.1 296.509 1311.1 Q293.1 1311.1 289.617 1309.36 Q286.171 1307.61 283.984 1303.43 Q280.575 1297.16 280.575 1285.16 M286.875 1284.23 Q286.875 1295.68 287.69 1300.24 Q288.616 1305.17 291.136 1307.32 Q293.693 1309.43 296.509 1309.43 Q299.547 1309.43 302.067 1307.17 Q304.624 1304.87 305.402 1299.94 Q306.254 1295.09 306.217 1284.23 Q306.217 1273.67 305.476 1269.45 Q304.476 1264.52 301.808 1262.55 Q299.177 1260.55 296.509 1260.55 Q295.508 1260.55 294.434 1260.85 Q293.396 1261.15 291.877 1262 Q290.358 1262.85 289.172 1264.96 Q288.023 1267.08 287.468 1270.26 Q286.875 1274.38 286.875 1284.23 Z\" fill=\"#000000\" fill-rule=\"evenodd\" fill-opacity=\"1\" /><path clip-path=\"url(#clip370)\" d=\"M323.152 1308.21 Q322.003 1306.98 322.003 1305.39 Q322.003 1303.8 323.152 1302.65 Q324.3 1301.46 326.042 1301.46 Q327.709 1301.46 328.821 1302.57 Q329.97 1303.65 329.97 1305.43 Q329.97 1307.17 328.747 1308.32 Q327.561 1309.43 326.042 1309.43 Q324.3 1309.43 323.152 1308.21 Z\" fill=\"#000000\" fill-rule=\"evenodd\" fill-opacity=\"1\" /><path clip-path=\"url(#clip370)\" d=\"M340.419 1297.2 Q340.419 1294.94 341.642 1294.09 Q342.865 1293.2 344.162 1293.2 Q345.903 1293.2 346.904 1294.31 Q347.941 1295.39 347.941 1296.9 Q347.941 1298.42 346.904 1299.54 Q345.903 1300.61 344.162 1300.61 Q343.309 1300.61 342.865 1300.46 Q343.865 1303.95 346.904 1306.47 Q349.979 1308.98 354.018 1308.98 Q359.095 1308.98 362.133 1304.06 Q363.949 1300.87 363.949 1293.64 Q363.949 1287.27 362.578 1284.08 Q360.466 1279.23 356.131 1279.23 Q349.979 1279.23 346.348 1284.53 Q345.903 1285.2 345.385 1285.23 Q344.643 1285.23 344.458 1284.82 Q344.31 1284.38 344.31 1283.23 L344.31 1260.78 Q344.31 1258.96 345.051 1258.96 Q345.348 1258.96 345.977 1259.18 Q350.758 1261.29 356.056 1261.33 Q361.504 1261.33 366.395 1259.11 Q366.765 1258.89 366.988 1258.89 Q367.729 1258.89 367.766 1259.74 Q367.766 1260.04 367.136 1260.92 Q366.543 1261.78 365.246 1262.93 Q363.949 1264.04 362.282 1265.11 Q360.614 1266.19 358.169 1266.93 Q355.76 1267.63 353.092 1267.63 Q349.905 1267.63 346.644 1266.63 L346.644 1281.42 Q350.572 1277.56 356.279 1277.56 Q362.356 1277.56 366.543 1282.45 Q370.73 1287.34 370.73 1294.16 Q370.73 1301.31 365.765 1306.21 Q360.837 1311.1 354.167 1311.1 Q348.09 1311.1 344.236 1306.76 Q340.419 1302.43 340.419 1297.2 Z\" fill=\"#000000\" fill-rule=\"evenodd\" fill-opacity=\"1\" /><path clip-path=\"url(#clip370)\" d=\"M279.76 919.204 Q279.76 908.051 282.576 901.974 Q286.504 892.932 295.768 892.932 Q297.732 892.932 299.77 893.488 Q301.845 894.007 304.439 896.045 Q307.07 898.083 308.663 901.418 Q311.702 907.865 311.702 919.204 Q311.702 930.284 308.885 936.324 Q304.772 945.143 295.694 945.143 Q292.285 945.143 288.802 943.401 Q285.355 941.659 283.169 937.472 Q279.76 931.21 279.76 919.204 M286.059 918.278 Q286.059 929.728 286.875 934.286 Q287.801 939.214 290.321 941.363 Q292.878 943.475 295.694 943.475 Q298.732 943.475 301.252 941.215 Q303.809 938.917 304.587 933.989 Q305.439 929.135 305.402 918.278 Q305.402 907.717 304.661 903.493 Q303.661 898.564 300.993 896.601 Q298.362 894.6 295.694 894.6 Q294.693 894.6 293.619 894.896 Q292.581 895.192 291.062 896.045 Q289.543 896.897 288.357 899.009 Q287.208 901.121 286.652 904.308 Q286.059 908.421 286.059 918.278 Z\" fill=\"#000000\" fill-rule=\"evenodd\" fill-opacity=\"1\" /><path clip-path=\"url(#clip370)\" d=\"M322.336 942.252 Q321.188 941.03 321.188 939.436 Q321.188 937.843 322.336 936.694 Q323.485 935.508 325.227 935.508 Q326.894 935.508 328.006 936.62 Q329.154 937.695 329.154 939.473 Q329.154 941.215 327.932 942.364 Q326.746 943.475 325.227 943.475 Q323.485 943.475 322.336 942.252 Z\" fill=\"#000000\" fill-rule=\"evenodd\" fill-opacity=\"1\" /><path clip-path=\"url(#clip370)\" d=\"M338.789 919.204 Q338.789 908.051 341.605 901.974 Q345.533 892.932 354.797 892.932 Q356.76 892.932 358.798 893.488 Q360.874 894.007 363.467 896.045 Q366.098 898.083 367.692 901.418 Q370.73 907.865 370.73 919.204 Q370.73 930.284 367.914 936.324 Q363.801 945.143 354.722 945.143 Q351.313 945.143 347.83 943.401 Q344.384 941.659 342.198 937.472 Q338.789 931.21 338.789 919.204 M345.088 918.278 Q345.088 929.728 345.903 934.286 Q346.83 939.214 349.349 941.363 Q351.906 943.475 354.722 943.475 Q357.761 943.475 360.281 941.215 Q362.837 938.917 363.616 933.989 Q364.468 929.135 364.431 918.278 Q364.431 907.717 363.69 903.493 Q362.689 898.564 360.021 896.601 Q357.39 894.6 354.722 894.6 Q353.722 894.6 352.647 894.896 Q351.61 895.192 350.091 896.045 Q348.571 896.897 347.386 899.009 Q346.237 901.121 345.681 904.308 Q345.088 908.421 345.088 918.278 Z\" fill=\"#000000\" fill-rule=\"evenodd\" fill-opacity=\"1\" /><path clip-path=\"url(#clip370)\" d=\"M280.575 553.25 Q280.575 542.096 283.391 536.019 Q287.319 526.978 296.583 526.978 Q298.547 526.978 300.585 527.534 Q302.66 528.052 305.254 530.09 Q307.885 532.128 309.478 535.463 Q312.517 541.911 312.517 553.25 Q312.517 564.329 309.701 570.369 Q305.587 579.188 296.509 579.188 Q293.1 579.188 289.617 577.447 Q286.171 575.705 283.984 571.518 Q280.575 565.256 280.575 553.25 M286.875 552.323 Q286.875 563.773 287.69 568.331 Q288.616 573.26 291.136 575.409 Q293.693 577.521 296.509 577.521 Q299.547 577.521 302.067 575.261 Q304.624 572.963 305.402 568.035 Q306.254 563.181 306.217 552.323 Q306.217 541.763 305.476 537.538 Q304.476 532.61 301.808 530.646 Q299.177 528.645 296.509 528.645 Q295.508 528.645 294.434 528.942 Q293.396 529.238 291.877 530.09 Q290.358 530.943 289.172 533.055 Q288.023 535.167 287.468 538.354 Q286.875 542.467 286.875 552.323 Z\" fill=\"#000000\" fill-rule=\"evenodd\" fill-opacity=\"1\" /><path clip-path=\"url(#clip370)\" d=\"M323.152 576.298 Q322.003 575.075 322.003 573.482 Q322.003 571.889 323.152 570.74 Q324.3 569.554 326.042 569.554 Q327.709 569.554 328.821 570.666 Q329.97 571.74 329.97 573.519 Q329.97 575.261 328.747 576.409 Q327.561 577.521 326.042 577.521 Q324.3 577.521 323.152 576.298 Z\" fill=\"#000000\" fill-rule=\"evenodd\" fill-opacity=\"1\" /><path clip-path=\"url(#clip370)\" d=\"M340.419 565.293 Q340.419 563.032 341.642 562.18 Q342.865 561.291 344.162 561.291 Q345.903 561.291 346.904 562.402 Q347.941 563.477 347.941 564.996 Q347.941 566.516 346.904 567.627 Q345.903 568.702 344.162 568.702 Q343.309 568.702 342.865 568.554 Q343.865 572.037 346.904 574.556 Q349.979 577.076 354.018 577.076 Q359.095 577.076 362.133 572.148 Q363.949 568.961 363.949 561.735 Q363.949 555.362 362.578 552.175 Q360.466 547.321 356.131 547.321 Q349.979 547.321 346.348 552.62 Q345.903 553.287 345.385 553.324 Q344.643 553.324 344.458 552.916 Q344.31 552.472 344.31 551.323 L344.31 528.868 Q344.31 527.052 345.051 527.052 Q345.348 527.052 345.977 527.274 Q350.758 529.386 356.056 529.423 Q361.504 529.423 366.395 527.2 Q366.765 526.978 366.988 526.978 Q367.729 526.978 367.766 527.83 Q367.766 528.127 367.136 529.016 Q366.543 529.868 365.246 531.017 Q363.949 532.128 362.282 533.203 Q360.614 534.278 358.169 535.019 Q355.76 535.723 353.092 535.723 Q349.905 535.723 346.644 534.722 L346.644 549.507 Q350.572 545.654 356.279 545.654 Q362.356 545.654 366.543 550.545 Q370.73 555.436 370.73 562.254 Q370.73 569.406 365.765 574.297 Q360.837 579.188 354.167 579.188 Q348.09 579.188 344.236 574.853 Q340.419 570.517 340.419 565.293 Z\" fill=\"#000000\" fill-rule=\"evenodd\" fill-opacity=\"1\" /><path clip-path=\"url(#clip370)\" d=\"M283.54 168.249 L283.54 165.878 Q292.655 165.878 297.361 161.024 Q298.658 161.024 298.88 161.32 Q299.103 161.616 299.103 162.987 L299.103 205.564 Q299.103 207.824 300.214 208.528 Q301.326 209.232 306.18 209.232 L308.589 209.232 L308.589 211.567 Q305.921 211.344 296.287 211.344 Q286.652 211.344 284.021 211.567 L284.021 209.232 L286.43 209.232 Q291.21 209.232 292.359 208.565 Q293.508 207.861 293.508 205.564 L293.508 166.248 Q289.543 168.249 283.54 168.249 Z\" fill=\"#000000\" fill-rule=\"evenodd\" fill-opacity=\"1\" /><path clip-path=\"url(#clip370)\" d=\"M322.336 210.344 Q321.188 209.121 321.188 207.528 Q321.188 205.934 322.336 204.786 Q323.485 203.6 325.227 203.6 Q326.894 203.6 328.006 204.711 Q329.154 205.786 329.154 207.565 Q329.154 209.306 327.932 210.455 Q326.746 211.567 325.227 211.567 Q323.485 211.567 322.336 210.344 Z\" fill=\"#000000\" fill-rule=\"evenodd\" fill-opacity=\"1\" /><path clip-path=\"url(#clip370)\" d=\"M338.789 187.296 Q338.789 176.142 341.605 170.065 Q345.533 161.024 354.797 161.024 Q356.76 161.024 358.798 161.579 Q360.874 162.098 363.467 164.136 Q366.098 166.174 367.692 169.509 Q370.73 175.957 370.73 187.296 Q370.73 198.375 367.914 204.415 Q363.801 213.234 354.722 213.234 Q351.313 213.234 347.83 211.492 Q344.384 209.751 342.198 205.564 Q338.789 199.301 338.789 187.296 M345.088 186.369 Q345.088 197.819 345.903 202.377 Q346.83 207.305 349.349 209.454 Q351.906 211.567 354.722 211.567 Q357.761 211.567 360.281 209.306 Q362.837 207.009 363.616 202.081 Q364.468 197.226 364.431 186.369 Q364.431 175.808 363.69 171.584 Q362.689 166.656 360.021 164.692 Q357.39 162.691 354.722 162.691 Q353.722 162.691 352.647 162.987 Q351.61 163.284 350.091 164.136 Q348.571 164.988 347.386 167.101 Q346.237 169.213 345.681 172.399 Q345.088 176.513 345.088 186.369 Z\" fill=\"#000000\" fill-rule=\"evenodd\" fill-opacity=\"1\" /><path clip-path=\"url(#clip370)\" d=\"M168.215 1027.62 Q166.201 1027.62 165.124 1026.45 Q164.093 1025.23 164.093 1023.59 Q164.093 1021.86 165.17 1020.73 Q166.295 1019.56 168.122 1019.56 Q171.682 1019.56 172.15 1023.31 Q173.884 1021.48 173.884 1018.81 Q173.884 1015.95 171.776 1013.66 Q169.668 1011.32 167.653 1010.33 Q165.639 1009.3 161.985 1007.85 Q159.127 1006.49 156.317 1005.46 L121.277 1019.84 Q118.981 1020.78 118.466 1022.23 Q117.951 1023.68 117.951 1027.62 L114.953 1027.62 Q115.234 1023.31 115.234 1018.3 Q115.234 1015.34 114.953 1007.85 L117.951 1007.85 Q117.951 1013.24 120.434 1013.24 Q120.715 1013.24 122.167 1012.67 L147.978 1001.99 L124.369 992.296 Q123.01 991.734 122.073 991.734 Q118.138 991.734 117.951 996.231 L114.953 996.231 Q115.234 989.907 115.234 987.893 Q115.234 983.958 114.953 980.726 L117.951 980.726 Q117.951 987.143 124.087 989.626 L165.03 1006.54 Q175.945 1011.13 175.992 1018.81 Q175.992 1022.46 173.743 1025.04 Q171.495 1027.62 168.215 1027.62 Z\" fill=\"#006400\" fill-rule=\"evenodd\" fill-opacity=\"1\" /><path clip-path=\"url(#clip370)\" d=\"M132.332 956.432 Q116.124 956.432 103.054 950.389 Q97.5733 947.812 92.9825 944.205 Q88.3917 940.598 86.3773 938.209 Q84.363 935.82 84.363 935.164 Q84.363 934.227 85.2999 934.18 Q85.7684 934.18 86.9395 935.445 Q102.679 950.904 132.332 950.857 Q162.079 950.857 177.21 935.82 Q178.849 934.18 179.364 934.18 Q180.301 934.18 180.301 935.164 Q180.301 935.82 178.381 938.115 Q176.46 940.411 172.057 943.971 Q167.653 947.531 162.266 950.107 Q149.196 956.432 132.332 956.432 Z\" fill=\"#006400\" fill-rule=\"evenodd\" fill-opacity=\"1\" /><path clip-path=\"url(#clip370)\" d=\"M156.317 926.888 L153.366 926.888 Q153.366 921.782 152.757 920.611 Q152.101 919.44 149.009 919.44 L123.291 919.44 Q119.731 919.44 118.841 920.705 Q117.951 921.923 117.951 926.888 L114.953 926.888 L113.922 913.397 L123.994 913.397 Q113.922 908.9 113.922 899.203 Q113.922 887.96 123.291 886.414 Q119.637 884.775 116.78 881.355 Q113.922 877.889 113.922 872.502 Q113.922 865.287 117.482 862.43 Q119.871 860.322 122.542 859.9 Q125.212 859.479 132.145 859.479 L150.461 859.479 Q152.475 859.385 152.944 857.839 Q153.366 856.293 153.366 851.983 L156.317 851.983 Q156.036 861.774 156.036 862.711 Q156.036 863.46 156.317 873.579 L153.366 873.579 Q153.366 868.473 152.757 867.302 Q152.101 866.084 149.009 866.084 L126.664 866.084 Q121.792 866.084 118.935 867.583 Q116.03 869.082 116.03 873.204 Q116.03 878.17 120.199 882.152 Q124.369 886.133 131.395 886.133 L149.009 886.133 Q152.101 886.133 152.757 884.962 Q153.366 883.744 153.366 878.638 L156.317 878.638 Q156.036 888.429 156.036 889.413 Q156.036 890.162 156.317 900.234 L153.366 900.234 Q153.366 895.128 152.757 893.956 Q152.101 892.738 149.009 892.738 L126.664 892.738 Q121.792 892.738 118.935 894.238 Q116.03 895.737 116.03 899.859 Q116.03 904.824 120.199 908.806 Q124.369 912.788 131.395 912.788 L149.009 912.788 Q152.101 912.788 152.757 911.617 Q153.366 910.399 153.366 905.34 L156.317 905.34 Q156.036 915.13 156.036 916.067 Q156.036 916.817 156.317 926.888 Z\" fill=\"#006400\" fill-rule=\"evenodd\" fill-opacity=\"1\" /><path clip-path=\"url(#clip370)\" d=\"M179.364 844.326 Q178.896 844.326 177.725 843.108 Q161.985 827.649 132.332 827.649 Q102.586 827.649 87.5485 842.499 Q85.8152 844.326 85.2999 844.326 Q84.363 844.326 84.363 843.389 Q84.363 842.733 86.2837 840.438 Q88.2043 838.095 92.6077 834.582 Q97.0111 831.022 102.398 828.398 Q115.468 822.074 132.332 822.074 Q148.541 822.074 161.61 828.117 Q167.091 830.694 171.682 834.301 Q176.273 837.908 178.287 840.297 Q180.301 842.686 180.301 843.389 Q180.301 844.326 179.364 844.326 Z\" fill=\"#006400\" fill-rule=\"evenodd\" fill-opacity=\"1\" /><polyline clip-path=\"url(#clip372)\" style=\"stroke:#009af9; stroke-linecap:round; stroke-linejoin:round; stroke-width:8; stroke-opacity:0.7; fill:none\" points=\"\n",
       "  479.156,917.555 482.434,902.586 485.713,887.623 488.991,872.673 492.269,857.742 507.426,789.133 522.583,721.672 537.739,655.961 552.896,592.588 560.474,561.955 \n",
       "  568.052,532.118 575.631,503.142 583.209,475.092 590.787,448.031 598.366,422.02 605.944,397.116 613.522,373.375 622.631,346.454 631.739,321.378 640.848,298.226 \n",
       "  649.956,277.073 659.065,257.988 668.173,241.033 677.282,226.262 686.39,213.723 694.091,204.892 701.793,197.706 709.494,192.182 717.195,188.332 724.896,186.165 \n",
       "  732.597,185.686 740.298,186.897 747.999,189.793 756.365,194.843 764.73,201.861 773.096,210.828 781.461,221.719 789.827,234.506 798.193,249.153 806.558,265.62 \n",
       "  814.924,283.863 822.636,302.212 830.348,321.984 838.061,343.136 845.773,365.617 853.485,389.375 861.198,414.356 868.91,440.502 876.622,467.753 884.891,498.122 \n",
       "  893.159,529.608 901.428,562.126 909.696,595.59 926.233,664.995 942.77,737.087 981.089,910.184 1019.41,1083.7 1036.43,1158.34 1053.46,1230.27 1061.97,1264.96 \n",
       "  1070.49,1298.67 1079,1331.3 1087.51,1362.77 1094.98,1389.34 1102.45,1414.88 1109.91,1439.34 1117.38,1462.67 1124.84,1484.82 1132.31,1505.74 1139.77,1525.38 \n",
       "  1147.24,1543.71 1155.38,1562.14 1163.52,1578.9 1171.66,1593.97 1179.8,1607.28 1187.94,1618.83 1196.07,1628.56 1204.21,1636.46 1212.35,1642.5 1220.54,1646.7 \n",
       "  1228.73,1648.99 1236.92,1649.38 1245.1,1647.86 1253.29,1644.43 1261.48,1639.1 1269.67,1631.89 1277.86,1622.82 1286.91,1610.65 1295.96,1596.27 1305.01,1579.73 \n",
       "  1314.07,1561.07 1323.12,1540.36 1332.17,1517.67 1341.22,1493.06 1350.28,1466.62 1358.89,1439.83 1367.5,1411.54 1376.12,1381.81 1384.73,1350.75 1393.34,1318.44 \n",
       "  1401.96,1284.97 1410.57,1250.44 1419.18,1214.95 1437.09,1138.52 1455.01,1059.33 1472.92,978.367 1490.83,896.65 1505.91,828.021 1520.98,760.185 1536.06,693.74 \n",
       "  1551.14,629.274 1560.34,591.139 1569.55,554.08 1578.75,518.219 1587.96,483.674 1597.16,450.56 1606.37,418.985 1615.57,389.054 1624.77,360.866 1633.21,336.651 \n",
       "  1641.64,314.044 1650.07,293.107 1658.5,273.897 1666.93,256.467 1675.36,240.867 1683.79,227.139 1692.23,215.32 1700.01,206.131 1707.8,198.62 1715.59,192.805 \n",
       "  1723.38,188.701 1731.16,186.317 1738.95,185.659 1746.74,186.728 1754.52,189.521 1762.41,194.103 1770.3,200.436 1778.19,208.506 1786.08,218.293 1793.97,229.773 \n",
       "  1801.85,242.919 1809.74,257.698 1817.63,274.075 1826.47,294.279 1835.31,316.378 1844.15,340.306 1852.99,365.989 1861.83,393.35 1870.67,422.305 1879.51,452.767 \n",
       "  1888.35,484.641 1896.36,514.665 1904.38,545.695 1912.39,577.653 1920.4,610.461 1936.42,678.292 1952.44,748.513 1989.13,914.5 2025.82,1080.65 2042.8,1155.2 \n",
       "  2059.79,1227.08 2068.28,1261.77 2076.77,1295.5 2085.26,1328.16 2093.76,1359.67 2102.13,1389.52 2110.5,1418.09 2118.87,1445.28 2127.25,1471.04 2135.62,1495.29 \n",
       "  2143.99,1517.97 2152.36,1539 2160.74,1558.34 2168.86,1575.45 2176.99,1590.86 2185.12,1604.54 2193.25,1616.46 2201.38,1626.57 2209.51,1634.87 2217.64,1641.32 \n",
       "  2225.77,1645.91 2234.1,1648.67 2242.43,1649.45 2250.77,1648.26 2259.1,1645.09 2267.43,1639.96 2275.77,1632.87 2284.1,1623.85 2292.43,1612.92 2301.56,1598.79 \n",
       "  2310.69,1582.45 2319.82,1563.96 2328.95,1543.36 2338.08,1520.74 2347.21,1496.16 2356.34,1469.71 2365.47,1441.46 2378.74,1397.42 2392,1350.1 2405.26,1299.83 \n",
       "  2418.53,1246.93 2431.79,1191.78 2445.05,1134.76 2458.31,1076.24 2471.58,1016.65 2477.02,991.974 2482.46,967.215 2487.9,942.4 2493.34,917.555 \n",
       "  \"/>\n",
       "<polyline clip-path=\"url(#clip372)\" style=\"stroke:#e26f46; stroke-linecap:round; stroke-linejoin:round; stroke-width:8; stroke-opacity:0.7; fill:none\" points=\"\n",
       "  479.156,185.647 482.434,185.8 485.713,186.259 488.991,187.024 492.269,188.095 499.848,191.737 507.426,197.001 515.004,203.876 522.583,212.346 530.161,222.392 \n",
       "  537.739,233.992 545.318,247.119 552.896,261.745 560.474,277.837 568.052,295.359 575.631,314.271 583.209,334.532 590.787,356.095 598.366,378.914 605.944,402.936 \n",
       "  613.522,428.109 622.631,459.806 631.739,492.982 640.848,527.528 649.956,563.333 659.065,600.283 668.173,638.256 677.282,677.131 686.39,716.782 717.195,854.915 \n",
       "  747.999,995.354 764.73,1070.76 781.461,1144.5 798.193,1215.76 814.924,1283.79 822.636,1313.84 830.348,1342.98 838.061,1371.13 845.773,1398.24 853.485,1424.23 \n",
       "  861.198,1449.04 868.91,1472.63 876.622,1494.94 884.891,1517.36 893.159,1538.19 901.428,1557.37 909.696,1574.84 917.964,1590.57 926.233,1604.51 934.501,1616.62 \n",
       "  942.77,1626.87 952.349,1636.38 961.929,1643.33 971.509,1647.68 981.089,1649.43 990.669,1648.56 1000.25,1645.08 1009.83,1639.01 1019.41,1630.36 1027.92,1620.53 \n",
       "  1036.43,1608.72 1044.95,1594.96 1053.46,1579.3 1061.97,1561.76 1070.49,1542.41 1079,1521.3 1087.51,1498.48 1094.98,1477.12 1102.45,1454.55 1109.91,1430.81 \n",
       "  1117.38,1405.96 1124.84,1380.05 1132.31,1353.13 1139.77,1325.28 1147.24,1296.53 1163.52,1231.1 1179.8,1162.43 1196.07,1091.24 1212.35,1018.26 1245.1,869.061 \n",
       "  1277.86,721.884 1286.91,682.384 1295.96,643.635 1305.01,605.759 1314.07,568.878 1323.12,533.108 1332.17,498.565 1341.22,465.357 1350.28,433.592 1358.89,404.8 \n",
       "  1367.5,377.487 1376.12,351.734 1384.73,327.615 1393.34,305.198 1401.96,284.55 1410.57,265.729 1419.18,248.79 1428.14,233.226 1437.09,219.797 1446.05,208.546 \n",
       "  1455.01,199.508 1463.96,192.712 1472.92,188.177 1481.87,185.919 1490.83,185.945 1498.37,187.737 1505.91,191.144 1513.45,196.157 1520.98,202.765 1528.52,210.955 \n",
       "  1536.06,220.707 1543.6,232.001 1551.14,244.811 1560.34,262.465 1569.55,282.279 1578.75,304.187 1587.96,328.117 1597.16,353.99 1606.37,381.721 1615.57,411.218 \n",
       "  1624.77,442.385 1633.21,472.313 1641.64,503.472 1650.07,535.778 1658.5,569.139 1675.36,638.659 1692.23,711.263 1723.38,850.758 1754.52,992.767 1770.3,1063.95 \n",
       "  1786.08,1133.71 1801.85,1201.38 1817.63,1266.3 1826.47,1301.24 1835.31,1335.02 1844.15,1367.53 1852.99,1398.66 1861.83,1428.34 1870.67,1456.46 1879.51,1482.94 \n",
       "  1888.35,1507.7 1896.36,1528.59 1904.38,1547.96 1912.39,1565.75 1920.4,1581.92 1928.41,1596.43 1936.42,1609.25 1944.43,1620.34 1952.44,1629.68 1961.61,1638.18 \n",
       "  1970.78,1644.32 1979.96,1648.08 1989.13,1649.46 1998.3,1648.43 2007.47,1645.02 2016.64,1639.22 2025.82,1631.06 2034.31,1621.42 2042.8,1609.81 2051.29,1596.25 \n",
       "  2059.79,1580.79 2068.28,1563.47 2076.77,1544.33 2085.26,1523.44 2093.76,1500.84 2102.13,1476.96 2110.5,1451.56 2118.87,1424.7 2127.25,1396.45 2135.62,1366.9 \n",
       "  2143.99,1336.12 2152.36,1304.2 2160.74,1271.23 2176.99,1204.52 2193.25,1134.87 2209.51,1062.99 2225.77,989.603 2259.1,837.67 2292.43,689.179 2301.56,649.962 \n",
       "  2310.69,611.612 2319.82,574.255 2328.95,538.012 2338.08,502.999 2347.21,469.332 2356.34,437.118 2365.47,406.463 2372.11,385.231 2378.74,364.91 2385.37,345.535 \n",
       "  2392,327.139 2398.63,309.753 2405.26,293.408 2411.89,278.131 2418.53,263.948 2425.16,250.884 2431.79,238.961 2438.42,228.199 2445.05,218.617 2451.68,210.232 \n",
       "  2458.31,203.057 2464.95,197.105 2471.58,192.386 2477.02,189.44 2482.46,187.333 2487.9,186.068 2493.34,185.647 \n",
       "  \"/>\n",
       "<path clip-path=\"url(#clip370)\" d=\"\n",
       "M2641.75 387.854 L3058.27 387.854 L3058.27 193.454 L2641.75 193.454  Z\n",
       "  \" fill=\"#ffffff\" fill-rule=\"evenodd\" fill-opacity=\"1\"/>\n",
       "<polyline clip-path=\"url(#clip370)\" style=\"stroke:#000000; stroke-linecap:round; stroke-linejoin:round; stroke-width:4; stroke-opacity:1; fill:none\" points=\"\n",
       "  2641.75,387.854 3058.27,387.854 3058.27,193.454 2641.75,193.454 2641.75,387.854 \n",
       "  \"/>\n",
       "<polyline clip-path=\"url(#clip370)\" style=\"stroke:#009af9; stroke-linecap:round; stroke-linejoin:round; stroke-width:10; stroke-opacity:0.7; fill:none\" points=\"\n",
       "  2671.08,258.254 2847.05,258.254 \n",
       "  \"/>\n",
       "<path clip-path=\"url(#clip370)\" d=\"M2876.38 272.307 L2876.38 264.402 Q2876.38 263.728 2876.41 263.494 Q2876.44 263.26 2876.61 263.084 Q2876.79 262.909 2877.14 262.909 Q2877.55 262.909 2877.7 263.084 Q2877.87 263.26 2877.99 263.933 Q2878.9 268.062 2880.83 270.257 Q2882.79 272.424 2886.33 272.424 Q2889.7 272.424 2891.4 270.931 Q2893.1 269.438 2893.1 266.978 Q2893.1 262.587 2886.86 261.474 Q2883.26 260.742 2881.77 260.274 Q2880.27 259.776 2878.96 258.693 Q2876.38 256.585 2876.38 253.598 Q2876.38 250.612 2878.63 248.416 Q2880.92 246.22 2885.95 246.22 Q2889.32 246.22 2891.6 247.918 Q2892.28 247.391 2892.63 246.952 Q2893.42 246.22 2893.83 246.22 Q2894.3 246.22 2894.39 246.542 Q2894.47 246.835 2894.47 247.684 L2894.47 253.715 Q2894.47 254.389 2894.44 254.623 Q2894.42 254.857 2894.24 255.033 Q2894.06 255.179 2893.68 255.179 Q2893.01 255.179 2892.98 254.623 Q2892.51 247.362 2885.95 247.362 Q2882.41 247.362 2880.83 248.738 Q2879.25 250.085 2879.25 251.929 Q2879.25 252.954 2879.72 253.745 Q2880.22 254.506 2880.83 254.974 Q2881.47 255.413 2882.65 255.853 Q2883.82 256.262 2884.52 256.409 Q2885.25 256.555 2886.63 256.848 Q2891.43 257.756 2893.45 259.717 Q2895.97 262.235 2895.97 265.426 Q2895.97 268.969 2893.57 271.37 Q2891.17 273.771 2886.33 273.771 Q2882.44 273.771 2879.72 271.165 Q2879.37 271.516 2879.1 271.838 Q2878.84 272.131 2878.72 272.248 Q2878.63 272.365 2878.61 272.453 Q2878.58 272.512 2878.52 272.57 Q2877.32 273.771 2877.02 273.771 Q2876.56 273.771 2876.47 273.449 Q2876.38 273.156 2876.38 272.307 Z\" fill=\"#000000\" fill-rule=\"evenodd\" fill-opacity=\"1\" /><path clip-path=\"url(#clip370)\" d=\"M2898.31 273.097 L2898.31 271.253 Q2901.5 271.253 2902.23 270.872 Q2902.96 270.462 2902.96 268.53 L2902.96 252.398 Q2902.96 250.173 2902.2 249.646 Q2901.47 249.119 2898.54 249.119 L2898.54 247.245 L2906.92 246.601 L2906.92 268.589 Q2906.92 270.374 2907.56 270.814 Q2908.2 271.253 2911.13 271.253 L2911.13 273.097 Q2905.01 272.922 2904.9 272.922 Q2904.08 272.922 2898.31 273.097 M2900.83 236.148 Q2900.83 234.948 2901.73 233.982 Q2902.67 232.986 2903.99 232.986 Q2905.31 232.986 2906.24 233.894 Q2907.18 234.772 2907.18 236.178 Q2907.18 237.554 2906.24 238.461 Q2905.31 239.34 2903.99 239.34 Q2902.61 239.34 2901.7 238.374 Q2900.83 237.407 2900.83 236.148 Z\" fill=\"#000000\" fill-rule=\"evenodd\" fill-opacity=\"1\" /><path clip-path=\"url(#clip370)\" d=\"M2915.23 273.097 L2915.23 271.253 Q2918.42 271.253 2919.15 270.872 Q2919.88 270.462 2919.88 268.53 L2919.88 252.456 Q2919.88 250.231 2919.09 249.675 Q2918.33 249.119 2915.23 249.119 L2915.23 247.245 L2923.66 246.601 L2923.66 252.895 Q2926.47 246.601 2932.53 246.601 Q2937.04 246.601 2938.82 248.826 Q2940.14 250.319 2940.41 251.988 Q2940.7 253.657 2940.7 257.99 L2940.7 269.438 Q2940.76 270.697 2941.72 270.989 Q2942.69 271.253 2945.38 271.253 L2945.38 273.097 Q2939.26 272.922 2938.65 272.922 Q2938.18 272.922 2931.89 273.097 L2931.89 271.253 Q2935.08 271.253 2935.81 270.872 Q2936.57 270.462 2936.57 268.53 L2936.57 254.564 Q2936.57 251.519 2935.63 249.733 Q2934.7 247.918 2932.12 247.918 Q2929.02 247.918 2926.53 250.524 Q2924.04 253.13 2924.04 257.521 L2924.04 268.53 Q2924.04 270.462 2924.77 270.872 Q2925.53 271.253 2928.69 271.253 L2928.69 273.097 Q2922.57 272.922 2921.99 272.922 Q2921.52 272.922 2915.23 273.097 Z\" fill=\"#000000\" fill-rule=\"evenodd\" fill-opacity=\"1\" /><path clip-path=\"url(#clip370)\" d=\"M2948.16 258.107 Q2948.16 247.977 2951.94 239.808 Q2953.55 236.383 2955.8 233.513 Q2958.06 230.644 2959.55 229.385 Q2961.04 228.126 2961.45 228.126 Q2962.04 228.126 2962.07 228.712 Q2962.07 229.005 2961.28 229.737 Q2951.62 239.574 2951.64 258.107 Q2951.64 276.699 2961.04 286.155 Q2962.07 287.18 2962.07 287.502 Q2962.07 288.088 2961.45 288.088 Q2961.04 288.088 2959.61 286.887 Q2958.17 285.687 2955.95 282.935 Q2953.72 280.183 2952.11 276.816 Q2948.16 268.647 2948.16 258.107 Z\" fill=\"#000000\" fill-rule=\"evenodd\" fill-opacity=\"1\" /><path clip-path=\"url(#clip370)\" d=\"M2992.59 243.117 Q2992.59 248.035 2991.01 253.569 Q2989.46 259.073 2987 263.523 Q2984.54 267.944 2981.32 270.872 Q2978.1 273.771 2975.02 273.771 Q2973.06 273.771 2971.6 272.687 Q2970.16 271.575 2969.37 269.73 Q2968.58 267.857 2968.2 265.807 Q2967.82 263.728 2967.82 261.474 Q2967.82 258.107 2968.55 254.447 Q2969.28 250.758 2970.51 247.42 Q2971.74 244.054 2973.47 241.009 Q2975.2 237.934 2977.1 235.709 Q2979.03 233.455 2981.2 232.137 Q2983.37 230.82 2985.39 230.82 Q2986.85 230.82 2988.02 231.464 Q2989.22 232.079 2989.98 233.162 Q2990.74 234.216 2991.27 235.475 Q2991.83 236.734 2992.09 238.198 Q2992.36 239.633 2992.47 240.833 Q2992.59 242.004 2992.59 243.117 M2988.64 239.398 Q2988.64 237.905 2988.52 236.793 Q2988.4 235.651 2988.08 234.509 Q2987.76 233.367 2987.06 232.752 Q2986.38 232.137 2985.33 232.137 Q2982.25 232.137 2978.8 238.432 Q2977.69 240.394 2976.69 243.058 Q2975.7 245.722 2975.34 246.981 Q2974.99 248.24 2974.17 251.344 L2986.7 251.344 Q2988.64 243.351 2988.64 239.398 M2986.18 253.247 L2973.7 253.247 Q2971.77 260.566 2971.77 265.134 Q2971.77 269.116 2972.59 270.784 Q2973.44 272.424 2975.02 272.424 Q2976.84 272.424 2978.54 270.609 Q2980.23 268.764 2981.96 265.426 Q2984.24 261.093 2986.18 253.247 Z\" fill=\"#000000\" fill-rule=\"evenodd\" fill-opacity=\"1\" /><path clip-path=\"url(#clip370)\" d=\"M2998.77 287.502 Q2998.77 287.209 2999.53 286.477 Q3009.2 276.64 3009.2 258.107 Q3009.2 239.515 2999.91 230.117 Q2998.77 229.034 2998.77 228.712 Q2998.77 228.126 2999.36 228.126 Q2999.77 228.126 3001.2 229.327 Q3002.67 230.527 3004.86 233.279 Q3007.09 236.031 3008.73 239.398 Q3012.68 247.567 3012.68 258.107 Q3012.68 268.237 3008.9 276.406 Q3007.29 279.831 3005.04 282.701 Q3002.78 285.57 3001.29 286.829 Q2999.8 288.088 2999.36 288.088 Q2998.77 288.088 2998.77 287.502 Z\" fill=\"#000000\" fill-rule=\"evenodd\" fill-opacity=\"1\" /><polyline clip-path=\"url(#clip370)\" style=\"stroke:#e26f46; stroke-linecap:round; stroke-linejoin:round; stroke-width:10; stroke-opacity:0.7; fill:none\" points=\"\n",
       "  2671.08,323.054 2847.05,323.054 \n",
       "  \"/>\n",
       "<path clip-path=\"url(#clip370)\" d=\"M2880.19 334.618 Q2876.38 330.636 2876.38 324.956 Q2876.38 319.247 2880.13 315.148 Q2883.88 311.02 2889.38 311.02 Q2893.04 311.02 2895.79 312.777 Q2898.54 314.504 2898.54 317.461 Q2898.54 318.779 2897.75 319.54 Q2896.99 320.272 2895.79 320.272 Q2894.53 320.272 2893.77 319.511 Q2893.04 318.72 2893.04 317.52 Q2893.04 316.993 2893.22 316.466 Q2893.39 315.939 2894.04 315.383 Q2894.71 314.826 2895.85 314.738 Q2893.71 312.543 2889.56 312.543 Q2889.5 312.543 2889.44 312.543 Q2886.39 312.543 2883.88 315.412 Q2881.36 318.281 2881.36 324.839 Q2881.36 328.265 2882.18 330.783 Q2883.03 333.271 2884.4 334.56 Q2885.78 335.848 2887.13 336.463 Q2888.47 337.048 2889.79 337.048 Q2895.67 337.048 2897.67 330.754 Q2897.84 330.168 2898.43 330.168 Q2899.22 330.168 2899.22 330.754 Q2899.22 331.046 2898.98 331.808 Q2898.75 332.569 2898.02 333.769 Q2897.28 334.97 2896.23 336.024 Q2895.21 337.048 2893.36 337.81 Q2891.55 338.571 2889.26 338.571 Q2883.99 338.571 2880.19 334.618 Z\" fill=\"#000000\" fill-rule=\"evenodd\" fill-opacity=\"1\" /><path clip-path=\"url(#clip370)\" d=\"M2906.21 334.677 Q2902.25 330.754 2902.25 325.074 Q2902.25 319.364 2906.12 315.207 Q2910.01 311.02 2915.58 311.02 Q2921.02 311.02 2924.92 315.178 Q2928.84 319.306 2928.84 325.074 Q2928.84 330.724 2924.89 334.647 Q2920.96 338.571 2915.52 338.571 Q2910.19 338.571 2906.21 334.677 M2907.23 324.576 Q2907.23 330.402 2908.75 333.037 Q2911.1 337.048 2915.58 337.048 Q2917.8 337.048 2919.65 335.848 Q2921.52 334.647 2922.54 332.627 Q2923.86 329.992 2923.86 324.576 Q2923.86 318.808 2922.28 316.261 Q2919.94 312.367 2915.52 312.367 Q2913.58 312.367 2911.68 313.392 Q2909.81 314.387 2908.67 316.378 Q2907.23 319.013 2907.23 324.576 Z\" fill=\"#000000\" fill-rule=\"evenodd\" fill-opacity=\"1\" /><path clip-path=\"url(#clip370)\" d=\"M2931.94 337.107 L2931.94 329.202 Q2931.94 328.528 2931.97 328.294 Q2932 328.06 2932.18 327.884 Q2932.35 327.709 2932.7 327.709 Q2933.11 327.709 2933.26 327.884 Q2933.43 328.06 2933.55 328.733 Q2934.46 332.862 2936.39 335.057 Q2938.35 337.224 2941.9 337.224 Q2945.26 337.224 2946.96 335.731 Q2948.66 334.238 2948.66 331.778 Q2948.66 327.387 2942.42 326.274 Q2938.82 325.542 2937.33 325.074 Q2935.84 324.576 2934.52 323.493 Q2931.94 321.385 2931.94 318.398 Q2931.94 315.412 2934.2 313.216 Q2936.48 311.02 2941.52 311.02 Q2944.88 311.02 2947.17 312.718 Q2947.84 312.191 2948.19 311.752 Q2948.98 311.02 2949.39 311.02 Q2949.86 311.02 2949.95 311.342 Q2950.04 311.635 2950.04 312.484 L2950.04 318.515 Q2950.04 319.189 2950.01 319.423 Q2949.98 319.657 2949.8 319.833 Q2949.63 319.979 2949.24 319.979 Q2948.57 319.979 2948.54 319.423 Q2948.07 312.162 2941.52 312.162 Q2937.97 312.162 2936.39 313.538 Q2934.81 314.885 2934.81 316.729 Q2934.81 317.754 2935.28 318.545 Q2935.78 319.306 2936.39 319.774 Q2937.04 320.213 2938.21 320.653 Q2939.38 321.062 2940.08 321.209 Q2940.81 321.355 2942.19 321.648 Q2946.99 322.556 2949.01 324.517 Q2951.53 327.035 2951.53 330.226 Q2951.53 333.769 2949.13 336.17 Q2946.73 338.571 2941.9 338.571 Q2938 338.571 2935.28 335.965 Q2934.93 336.316 2934.66 336.638 Q2934.4 336.931 2934.28 337.048 Q2934.2 337.165 2934.17 337.253 Q2934.14 337.312 2934.08 337.37 Q2932.88 338.571 2932.59 338.571 Q2932.12 338.571 2932.03 338.249 Q2931.94 337.956 2931.94 337.107 Z\" fill=\"#000000\" fill-rule=\"evenodd\" fill-opacity=\"1\" /><path clip-path=\"url(#clip370)\" d=\"M2955.31 322.907 Q2955.31 312.777 2959.09 304.608 Q2960.7 301.183 2962.95 298.313 Q2965.2 295.444 2966.7 294.185 Q2968.19 292.926 2968.6 292.926 Q2969.19 292.926 2969.22 293.512 Q2969.22 293.805 2968.43 294.537 Q2958.76 304.374 2958.79 322.907 Q2958.79 341.499 2968.19 350.955 Q2969.22 351.98 2969.22 352.302 Q2969.22 352.888 2968.6 352.888 Q2968.19 352.888 2966.76 351.687 Q2965.32 350.487 2963.1 347.735 Q2960.87 344.983 2959.26 341.616 Q2955.31 333.447 2955.31 322.907 Z\" fill=\"#000000\" fill-rule=\"evenodd\" fill-opacity=\"1\" /><path clip-path=\"url(#clip370)\" d=\"M2999.74 307.917 Q2999.74 312.835 2998.16 318.369 Q2996.6 323.873 2994.15 328.323 Q2991.69 332.744 2988.47 335.672 Q2985.24 338.571 2982.17 338.571 Q2980.21 338.571 2978.74 337.487 Q2977.31 336.375 2976.52 334.53 Q2975.73 332.657 2975.35 330.607 Q2974.97 328.528 2974.97 326.274 Q2974.97 322.907 2975.7 319.247 Q2976.43 315.558 2977.66 312.22 Q2978.89 308.854 2980.62 305.809 Q2982.35 302.734 2984.25 300.509 Q2986.18 298.255 2988.35 296.937 Q2990.51 295.62 2992.53 295.62 Q2994 295.62 2995.17 296.264 Q2996.37 296.879 2997.13 297.962 Q2997.89 299.016 2998.42 300.275 Q2998.98 301.534 2999.24 302.998 Q2999.5 304.433 2999.62 305.633 Q2999.74 306.804 2999.74 307.917 M2995.78 304.198 Q2995.78 302.705 2995.67 301.593 Q2995.55 300.451 2995.23 299.309 Q2994.91 298.167 2994.2 297.552 Q2993.53 296.937 2992.48 296.937 Q2989.4 296.937 2985.95 303.232 Q2984.83 305.194 2983.84 307.858 Q2982.84 310.522 2982.49 311.781 Q2982.14 313.04 2981.32 316.144 L2993.85 316.144 Q2995.78 308.151 2995.78 304.198 M2993.33 318.047 L2980.85 318.047 Q2978.92 325.366 2978.92 329.934 Q2978.92 333.916 2979.74 335.584 Q2980.59 337.224 2982.17 337.224 Q2983.99 337.224 2985.68 335.409 Q2987.38 333.564 2989.11 330.226 Q2991.39 325.893 2993.33 318.047 Z\" fill=\"#000000\" fill-rule=\"evenodd\" fill-opacity=\"1\" /><path clip-path=\"url(#clip370)\" d=\"M3005.92 352.302 Q3005.92 352.009 3006.68 351.277 Q3016.34 341.44 3016.34 322.907 Q3016.34 304.315 3007.06 294.917 Q3005.92 293.834 3005.92 293.512 Q3005.92 292.926 3006.51 292.926 Q3006.92 292.926 3008.35 294.127 Q3009.81 295.327 3012.01 298.079 Q3014.24 300.831 3015.87 304.198 Q3019.83 312.367 3019.83 322.907 Q3019.83 333.037 3016.05 341.206 Q3014.44 344.631 3012.19 347.501 Q3009.93 350.37 3008.44 351.629 Q3006.94 352.888 3006.51 352.888 Q3005.92 352.888 3005.92 352.302 Z\" fill=\"#000000\" fill-rule=\"evenodd\" fill-opacity=\"1\" /></svg>\n"
      ]
     },
     "execution_count": 30,
     "metadata": {},
     "output_type": "execute_result"
    }
   ],
   "source": [
    "using Plots\n",
    "using LaTeXStrings, Measures\n",
    "default(fontfamily = \"Computer Modern\", size=(800,500), titlefont = (16), legendfontsize = 10, \n",
    "        guidefont = (16, :darkgreen), tickfont = (12, :black), \n",
    "        framestyle = :box, yminorgrid = true)\n",
    "\n",
    "plot([sin, cos], -2π, 2π, label = [L\"\\sin(θ)\" L\"\\cos(θ)\"], \n",
    "    linewidth = 2, linealpha=0.7, legend = :outertopright)\n",
    "plot!(xticks = ([-2π:π:2*π;], [\"-2π\", \"-π\", \"0\", \"π\", \"2π\"]))\n",
    "plot!(margin=7mm, xlabel = L\"\\theta\\;(rad)\", ylabel= L\"\\textrm{y\\; (m)}\")\n"
   ]
  },
  {
   "cell_type": "markdown",
   "metadata": {
    "colab_type": "text",
    "id": "H4PCM4ggcW-t"
   },
   "source": [
    "### Plotting exercises:\n",
    "Create the following plots:</br>\n",
    "\n",
    "**Plot 1:**\n",
    "$y = 5\\sin\\left(2\\pi t^{3/2}\\right)$ from $t=0 \\;\\;\\mathrm{to}\\;\\; t=5$; don't forget to label the axes with units (assume that the time is in seconds, and y is in meters).\n",
    "\n",
    "**Plot 2:**\n"
   ]
  },
  {
   "cell_type": "code",
   "execution_count": null,
   "metadata": {
    "colab": {
     "autoexec": {
      "startup": false,
      "wait_interval": 0
     }
    },
    "colab_type": "code",
    "id": "0z5cYFPxcW-u"
   },
   "outputs": [],
   "source": []
  }
 ],
 "metadata": {
  "colab": {
   "collapsed_sections": [],
   "default_view": {},
   "name": "Assignment_01_23Jan2018.ipynb",
   "provenance": [
    {
     "file_id": "1lgEaZ4-XVqZbBJDPyxLn1Ps5hmurk01O",
     "timestamp": 1515611260721
    }
   ],
   "version": "0.3.2",
   "views": {}
  },
  "kernelspec": {
   "display_name": "Julia 1.10.0",
   "language": "julia",
   "name": "julia-1.10"
  },
  "language_info": {
   "file_extension": ".jl",
   "mimetype": "application/julia",
   "name": "julia",
   "version": "1.10.0"
  },
  "latex_envs": {
   "LaTeX_envs_menu_present": true,
   "autoclose": true,
   "autocomplete": true,
   "bibliofile": "biblio.bib",
   "cite_by": "apalike",
   "current_citInitial": 1,
   "eqLabelWithNumbers": true,
   "eqNumInitial": 1,
   "hotkeys": {
    "equation": "Ctrl-E",
    "itemize": "Ctrl-I"
   },
   "labels_anchors": false,
   "latex_user_defs": false,
   "report_style_numbering": true,
   "user_envs_cfg": false
  },
  "nteract": {
   "version": "0.28.0"
  }
 },
 "nbformat": 4,
 "nbformat_minor": 4
}
